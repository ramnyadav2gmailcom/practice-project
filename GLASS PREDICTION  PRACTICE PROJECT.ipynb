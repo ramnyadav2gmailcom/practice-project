{
 "cells": [
  {
   "cell_type": "code",
   "execution_count": 1,
   "id": "1ac2830f",
   "metadata": {},
   "outputs": [],
   "source": [
    "import pandas as pd\n",
    "import numpy as np\n",
    "import seaborn as sns\n",
    "import matplotlib.pyplot as plt\n",
    "import warnings\n",
    "warnings.filterwarnings('ignore')\n"
   ]
  },
  {
   "cell_type": "code",
   "execution_count": 2,
   "id": "93fb74f9",
   "metadata": {},
   "outputs": [],
   "source": [
    "df=pd.read_csv(\"https://raw.githubusercontent.com/dsrscientist/dataset3/main/glass.csv\")"
   ]
  },
  {
   "cell_type": "code",
   "execution_count": 3,
   "id": "c17a1b63",
   "metadata": {},
   "outputs": [
    {
     "data": {
      "text/html": [
       "<div>\n",
       "<style scoped>\n",
       "    .dataframe tbody tr th:only-of-type {\n",
       "        vertical-align: middle;\n",
       "    }\n",
       "\n",
       "    .dataframe tbody tr th {\n",
       "        vertical-align: top;\n",
       "    }\n",
       "\n",
       "    .dataframe thead th {\n",
       "        text-align: right;\n",
       "    }\n",
       "</style>\n",
       "<table border=\"1\" class=\"dataframe\">\n",
       "  <thead>\n",
       "    <tr style=\"text-align: right;\">\n",
       "      <th></th>\n",
       "      <th>1</th>\n",
       "      <th>1.52101</th>\n",
       "      <th>13.64</th>\n",
       "      <th>4.49</th>\n",
       "      <th>1.10</th>\n",
       "      <th>71.78</th>\n",
       "      <th>0.06</th>\n",
       "      <th>8.75</th>\n",
       "      <th>0.00</th>\n",
       "      <th>0.00.1</th>\n",
       "      <th>1.1</th>\n",
       "    </tr>\n",
       "  </thead>\n",
       "  <tbody>\n",
       "    <tr>\n",
       "      <th>0</th>\n",
       "      <td>2</td>\n",
       "      <td>1.51761</td>\n",
       "      <td>13.89</td>\n",
       "      <td>3.60</td>\n",
       "      <td>1.36</td>\n",
       "      <td>72.73</td>\n",
       "      <td>0.48</td>\n",
       "      <td>7.83</td>\n",
       "      <td>0.00</td>\n",
       "      <td>0.00</td>\n",
       "      <td>1</td>\n",
       "    </tr>\n",
       "    <tr>\n",
       "      <th>1</th>\n",
       "      <td>3</td>\n",
       "      <td>1.51618</td>\n",
       "      <td>13.53</td>\n",
       "      <td>3.55</td>\n",
       "      <td>1.54</td>\n",
       "      <td>72.99</td>\n",
       "      <td>0.39</td>\n",
       "      <td>7.78</td>\n",
       "      <td>0.00</td>\n",
       "      <td>0.00</td>\n",
       "      <td>1</td>\n",
       "    </tr>\n",
       "    <tr>\n",
       "      <th>2</th>\n",
       "      <td>4</td>\n",
       "      <td>1.51766</td>\n",
       "      <td>13.21</td>\n",
       "      <td>3.69</td>\n",
       "      <td>1.29</td>\n",
       "      <td>72.61</td>\n",
       "      <td>0.57</td>\n",
       "      <td>8.22</td>\n",
       "      <td>0.00</td>\n",
       "      <td>0.00</td>\n",
       "      <td>1</td>\n",
       "    </tr>\n",
       "    <tr>\n",
       "      <th>3</th>\n",
       "      <td>5</td>\n",
       "      <td>1.51742</td>\n",
       "      <td>13.27</td>\n",
       "      <td>3.62</td>\n",
       "      <td>1.24</td>\n",
       "      <td>73.08</td>\n",
       "      <td>0.55</td>\n",
       "      <td>8.07</td>\n",
       "      <td>0.00</td>\n",
       "      <td>0.00</td>\n",
       "      <td>1</td>\n",
       "    </tr>\n",
       "    <tr>\n",
       "      <th>4</th>\n",
       "      <td>6</td>\n",
       "      <td>1.51596</td>\n",
       "      <td>12.79</td>\n",
       "      <td>3.61</td>\n",
       "      <td>1.62</td>\n",
       "      <td>72.97</td>\n",
       "      <td>0.64</td>\n",
       "      <td>8.07</td>\n",
       "      <td>0.00</td>\n",
       "      <td>0.26</td>\n",
       "      <td>1</td>\n",
       "    </tr>\n",
       "    <tr>\n",
       "      <th>...</th>\n",
       "      <td>...</td>\n",
       "      <td>...</td>\n",
       "      <td>...</td>\n",
       "      <td>...</td>\n",
       "      <td>...</td>\n",
       "      <td>...</td>\n",
       "      <td>...</td>\n",
       "      <td>...</td>\n",
       "      <td>...</td>\n",
       "      <td>...</td>\n",
       "      <td>...</td>\n",
       "    </tr>\n",
       "    <tr>\n",
       "      <th>208</th>\n",
       "      <td>210</td>\n",
       "      <td>1.51623</td>\n",
       "      <td>14.14</td>\n",
       "      <td>0.00</td>\n",
       "      <td>2.88</td>\n",
       "      <td>72.61</td>\n",
       "      <td>0.08</td>\n",
       "      <td>9.18</td>\n",
       "      <td>1.06</td>\n",
       "      <td>0.00</td>\n",
       "      <td>7</td>\n",
       "    </tr>\n",
       "    <tr>\n",
       "      <th>209</th>\n",
       "      <td>211</td>\n",
       "      <td>1.51685</td>\n",
       "      <td>14.92</td>\n",
       "      <td>0.00</td>\n",
       "      <td>1.99</td>\n",
       "      <td>73.06</td>\n",
       "      <td>0.00</td>\n",
       "      <td>8.40</td>\n",
       "      <td>1.59</td>\n",
       "      <td>0.00</td>\n",
       "      <td>7</td>\n",
       "    </tr>\n",
       "    <tr>\n",
       "      <th>210</th>\n",
       "      <td>212</td>\n",
       "      <td>1.52065</td>\n",
       "      <td>14.36</td>\n",
       "      <td>0.00</td>\n",
       "      <td>2.02</td>\n",
       "      <td>73.42</td>\n",
       "      <td>0.00</td>\n",
       "      <td>8.44</td>\n",
       "      <td>1.64</td>\n",
       "      <td>0.00</td>\n",
       "      <td>7</td>\n",
       "    </tr>\n",
       "    <tr>\n",
       "      <th>211</th>\n",
       "      <td>213</td>\n",
       "      <td>1.51651</td>\n",
       "      <td>14.38</td>\n",
       "      <td>0.00</td>\n",
       "      <td>1.94</td>\n",
       "      <td>73.61</td>\n",
       "      <td>0.00</td>\n",
       "      <td>8.48</td>\n",
       "      <td>1.57</td>\n",
       "      <td>0.00</td>\n",
       "      <td>7</td>\n",
       "    </tr>\n",
       "    <tr>\n",
       "      <th>212</th>\n",
       "      <td>214</td>\n",
       "      <td>1.51711</td>\n",
       "      <td>14.23</td>\n",
       "      <td>0.00</td>\n",
       "      <td>2.08</td>\n",
       "      <td>73.36</td>\n",
       "      <td>0.00</td>\n",
       "      <td>8.62</td>\n",
       "      <td>1.67</td>\n",
       "      <td>0.00</td>\n",
       "      <td>7</td>\n",
       "    </tr>\n",
       "  </tbody>\n",
       "</table>\n",
       "<p>213 rows × 11 columns</p>\n",
       "</div>"
      ],
      "text/plain": [
       "       1  1.52101  13.64  4.49  1.10  71.78  0.06  8.75  0.00  0.00.1  1.1\n",
       "0      2  1.51761  13.89  3.60  1.36  72.73  0.48  7.83  0.00    0.00    1\n",
       "1      3  1.51618  13.53  3.55  1.54  72.99  0.39  7.78  0.00    0.00    1\n",
       "2      4  1.51766  13.21  3.69  1.29  72.61  0.57  8.22  0.00    0.00    1\n",
       "3      5  1.51742  13.27  3.62  1.24  73.08  0.55  8.07  0.00    0.00    1\n",
       "4      6  1.51596  12.79  3.61  1.62  72.97  0.64  8.07  0.00    0.26    1\n",
       "..   ...      ...    ...   ...   ...    ...   ...   ...   ...     ...  ...\n",
       "208  210  1.51623  14.14  0.00  2.88  72.61  0.08  9.18  1.06    0.00    7\n",
       "209  211  1.51685  14.92  0.00  1.99  73.06  0.00  8.40  1.59    0.00    7\n",
       "210  212  1.52065  14.36  0.00  2.02  73.42  0.00  8.44  1.64    0.00    7\n",
       "211  213  1.51651  14.38  0.00  1.94  73.61  0.00  8.48  1.57    0.00    7\n",
       "212  214  1.51711  14.23  0.00  2.08  73.36  0.00  8.62  1.67    0.00    7\n",
       "\n",
       "[213 rows x 11 columns]"
      ]
     },
     "execution_count": 3,
     "metadata": {},
     "output_type": "execute_result"
    }
   ],
   "source": [
    "df"
   ]
  },
  {
   "cell_type": "code",
   "execution_count": 4,
   "id": "799a1a0a",
   "metadata": {},
   "outputs": [],
   "source": [
    "#renaming the columns\n",
    "df1=df.rename(columns={'1':'ID number','1.52101':'refractive index','13.64':'sodium','4.49':'magnesium','1.10':'aluminium','71.78':'silicon','0.06':'potassium','8.75':'calcium','0.00':'barium','0.00.1':'iron','1.1':'class attribute'})"
   ]
  },
  {
   "cell_type": "code",
   "execution_count": 5,
   "id": "834d5324",
   "metadata": {},
   "outputs": [
    {
     "data": {
      "text/html": [
       "<div>\n",
       "<style scoped>\n",
       "    .dataframe tbody tr th:only-of-type {\n",
       "        vertical-align: middle;\n",
       "    }\n",
       "\n",
       "    .dataframe tbody tr th {\n",
       "        vertical-align: top;\n",
       "    }\n",
       "\n",
       "    .dataframe thead th {\n",
       "        text-align: right;\n",
       "    }\n",
       "</style>\n",
       "<table border=\"1\" class=\"dataframe\">\n",
       "  <thead>\n",
       "    <tr style=\"text-align: right;\">\n",
       "      <th></th>\n",
       "      <th>ID number</th>\n",
       "      <th>refractive index</th>\n",
       "      <th>sodium</th>\n",
       "      <th>magnesium</th>\n",
       "      <th>aluminium</th>\n",
       "      <th>silicon</th>\n",
       "      <th>potassium</th>\n",
       "      <th>calcium</th>\n",
       "      <th>barium</th>\n",
       "      <th>iron</th>\n",
       "      <th>class attribute</th>\n",
       "    </tr>\n",
       "  </thead>\n",
       "  <tbody>\n",
       "    <tr>\n",
       "      <th>0</th>\n",
       "      <td>2</td>\n",
       "      <td>1.51761</td>\n",
       "      <td>13.89</td>\n",
       "      <td>3.60</td>\n",
       "      <td>1.36</td>\n",
       "      <td>72.73</td>\n",
       "      <td>0.48</td>\n",
       "      <td>7.83</td>\n",
       "      <td>0.00</td>\n",
       "      <td>0.00</td>\n",
       "      <td>1</td>\n",
       "    </tr>\n",
       "    <tr>\n",
       "      <th>1</th>\n",
       "      <td>3</td>\n",
       "      <td>1.51618</td>\n",
       "      <td>13.53</td>\n",
       "      <td>3.55</td>\n",
       "      <td>1.54</td>\n",
       "      <td>72.99</td>\n",
       "      <td>0.39</td>\n",
       "      <td>7.78</td>\n",
       "      <td>0.00</td>\n",
       "      <td>0.00</td>\n",
       "      <td>1</td>\n",
       "    </tr>\n",
       "    <tr>\n",
       "      <th>2</th>\n",
       "      <td>4</td>\n",
       "      <td>1.51766</td>\n",
       "      <td>13.21</td>\n",
       "      <td>3.69</td>\n",
       "      <td>1.29</td>\n",
       "      <td>72.61</td>\n",
       "      <td>0.57</td>\n",
       "      <td>8.22</td>\n",
       "      <td>0.00</td>\n",
       "      <td>0.00</td>\n",
       "      <td>1</td>\n",
       "    </tr>\n",
       "    <tr>\n",
       "      <th>3</th>\n",
       "      <td>5</td>\n",
       "      <td>1.51742</td>\n",
       "      <td>13.27</td>\n",
       "      <td>3.62</td>\n",
       "      <td>1.24</td>\n",
       "      <td>73.08</td>\n",
       "      <td>0.55</td>\n",
       "      <td>8.07</td>\n",
       "      <td>0.00</td>\n",
       "      <td>0.00</td>\n",
       "      <td>1</td>\n",
       "    </tr>\n",
       "    <tr>\n",
       "      <th>4</th>\n",
       "      <td>6</td>\n",
       "      <td>1.51596</td>\n",
       "      <td>12.79</td>\n",
       "      <td>3.61</td>\n",
       "      <td>1.62</td>\n",
       "      <td>72.97</td>\n",
       "      <td>0.64</td>\n",
       "      <td>8.07</td>\n",
       "      <td>0.00</td>\n",
       "      <td>0.26</td>\n",
       "      <td>1</td>\n",
       "    </tr>\n",
       "    <tr>\n",
       "      <th>...</th>\n",
       "      <td>...</td>\n",
       "      <td>...</td>\n",
       "      <td>...</td>\n",
       "      <td>...</td>\n",
       "      <td>...</td>\n",
       "      <td>...</td>\n",
       "      <td>...</td>\n",
       "      <td>...</td>\n",
       "      <td>...</td>\n",
       "      <td>...</td>\n",
       "      <td>...</td>\n",
       "    </tr>\n",
       "    <tr>\n",
       "      <th>208</th>\n",
       "      <td>210</td>\n",
       "      <td>1.51623</td>\n",
       "      <td>14.14</td>\n",
       "      <td>0.00</td>\n",
       "      <td>2.88</td>\n",
       "      <td>72.61</td>\n",
       "      <td>0.08</td>\n",
       "      <td>9.18</td>\n",
       "      <td>1.06</td>\n",
       "      <td>0.00</td>\n",
       "      <td>7</td>\n",
       "    </tr>\n",
       "    <tr>\n",
       "      <th>209</th>\n",
       "      <td>211</td>\n",
       "      <td>1.51685</td>\n",
       "      <td>14.92</td>\n",
       "      <td>0.00</td>\n",
       "      <td>1.99</td>\n",
       "      <td>73.06</td>\n",
       "      <td>0.00</td>\n",
       "      <td>8.40</td>\n",
       "      <td>1.59</td>\n",
       "      <td>0.00</td>\n",
       "      <td>7</td>\n",
       "    </tr>\n",
       "    <tr>\n",
       "      <th>210</th>\n",
       "      <td>212</td>\n",
       "      <td>1.52065</td>\n",
       "      <td>14.36</td>\n",
       "      <td>0.00</td>\n",
       "      <td>2.02</td>\n",
       "      <td>73.42</td>\n",
       "      <td>0.00</td>\n",
       "      <td>8.44</td>\n",
       "      <td>1.64</td>\n",
       "      <td>0.00</td>\n",
       "      <td>7</td>\n",
       "    </tr>\n",
       "    <tr>\n",
       "      <th>211</th>\n",
       "      <td>213</td>\n",
       "      <td>1.51651</td>\n",
       "      <td>14.38</td>\n",
       "      <td>0.00</td>\n",
       "      <td>1.94</td>\n",
       "      <td>73.61</td>\n",
       "      <td>0.00</td>\n",
       "      <td>8.48</td>\n",
       "      <td>1.57</td>\n",
       "      <td>0.00</td>\n",
       "      <td>7</td>\n",
       "    </tr>\n",
       "    <tr>\n",
       "      <th>212</th>\n",
       "      <td>214</td>\n",
       "      <td>1.51711</td>\n",
       "      <td>14.23</td>\n",
       "      <td>0.00</td>\n",
       "      <td>2.08</td>\n",
       "      <td>73.36</td>\n",
       "      <td>0.00</td>\n",
       "      <td>8.62</td>\n",
       "      <td>1.67</td>\n",
       "      <td>0.00</td>\n",
       "      <td>7</td>\n",
       "    </tr>\n",
       "  </tbody>\n",
       "</table>\n",
       "<p>213 rows × 11 columns</p>\n",
       "</div>"
      ],
      "text/plain": [
       "     ID number  refractive index  sodium  magnesium  aluminium  silicon  \\\n",
       "0            2           1.51761   13.89       3.60       1.36    72.73   \n",
       "1            3           1.51618   13.53       3.55       1.54    72.99   \n",
       "2            4           1.51766   13.21       3.69       1.29    72.61   \n",
       "3            5           1.51742   13.27       3.62       1.24    73.08   \n",
       "4            6           1.51596   12.79       3.61       1.62    72.97   \n",
       "..         ...               ...     ...        ...        ...      ...   \n",
       "208        210           1.51623   14.14       0.00       2.88    72.61   \n",
       "209        211           1.51685   14.92       0.00       1.99    73.06   \n",
       "210        212           1.52065   14.36       0.00       2.02    73.42   \n",
       "211        213           1.51651   14.38       0.00       1.94    73.61   \n",
       "212        214           1.51711   14.23       0.00       2.08    73.36   \n",
       "\n",
       "     potassium  calcium  barium  iron  class attribute  \n",
       "0         0.48     7.83    0.00  0.00                1  \n",
       "1         0.39     7.78    0.00  0.00                1  \n",
       "2         0.57     8.22    0.00  0.00                1  \n",
       "3         0.55     8.07    0.00  0.00                1  \n",
       "4         0.64     8.07    0.00  0.26                1  \n",
       "..         ...      ...     ...   ...              ...  \n",
       "208       0.08     9.18    1.06  0.00                7  \n",
       "209       0.00     8.40    1.59  0.00                7  \n",
       "210       0.00     8.44    1.64  0.00                7  \n",
       "211       0.00     8.48    1.57  0.00                7  \n",
       "212       0.00     8.62    1.67  0.00                7  \n",
       "\n",
       "[213 rows x 11 columns]"
      ]
     },
     "execution_count": 5,
     "metadata": {},
     "output_type": "execute_result"
    }
   ],
   "source": [
    "df1"
   ]
  },
  {
   "cell_type": "code",
   "execution_count": 6,
   "id": "2c937c24",
   "metadata": {},
   "outputs": [
    {
     "data": {
      "text/plain": [
       "(213, 11)"
      ]
     },
     "execution_count": 6,
     "metadata": {},
     "output_type": "execute_result"
    }
   ],
   "source": [
    "df1.shape"
   ]
  },
  {
   "cell_type": "markdown",
   "id": "3ae084b4",
   "metadata": {},
   "source": [
    "This datasets contains total 213 rowa and 11 columns "
   ]
  },
  {
   "cell_type": "code",
   "execution_count": 7,
   "id": "a04ba3d3",
   "metadata": {},
   "outputs": [
    {
     "data": {
      "text/plain": [
       "Index(['ID number', 'refractive index', 'sodium', 'magnesium', 'aluminium',\n",
       "       'silicon', 'potassium', 'calcium', 'barium', 'iron', 'class attribute'],\n",
       "      dtype='object')"
      ]
     },
     "execution_count": 7,
     "metadata": {},
     "output_type": "execute_result"
    }
   ],
   "source": [
    "df1.columns"
   ]
  },
  {
   "cell_type": "code",
   "execution_count": 8,
   "id": "6981a393",
   "metadata": {},
   "outputs": [
    {
     "data": {
      "text/html": [
       "<div>\n",
       "<style scoped>\n",
       "    .dataframe tbody tr th:only-of-type {\n",
       "        vertical-align: middle;\n",
       "    }\n",
       "\n",
       "    .dataframe tbody tr th {\n",
       "        vertical-align: top;\n",
       "    }\n",
       "\n",
       "    .dataframe thead th {\n",
       "        text-align: right;\n",
       "    }\n",
       "</style>\n",
       "<table border=\"1\" class=\"dataframe\">\n",
       "  <thead>\n",
       "    <tr style=\"text-align: right;\">\n",
       "      <th></th>\n",
       "      <th>ID number</th>\n",
       "      <th>refractive index</th>\n",
       "      <th>sodium</th>\n",
       "      <th>magnesium</th>\n",
       "      <th>aluminium</th>\n",
       "      <th>silicon</th>\n",
       "      <th>potassium</th>\n",
       "      <th>calcium</th>\n",
       "      <th>barium</th>\n",
       "      <th>iron</th>\n",
       "      <th>class attribute</th>\n",
       "    </tr>\n",
       "  </thead>\n",
       "  <tbody>\n",
       "    <tr>\n",
       "      <th>0</th>\n",
       "      <td>2</td>\n",
       "      <td>1.51761</td>\n",
       "      <td>13.89</td>\n",
       "      <td>3.60</td>\n",
       "      <td>1.36</td>\n",
       "      <td>72.73</td>\n",
       "      <td>0.48</td>\n",
       "      <td>7.83</td>\n",
       "      <td>0.0</td>\n",
       "      <td>0.00</td>\n",
       "      <td>1</td>\n",
       "    </tr>\n",
       "    <tr>\n",
       "      <th>1</th>\n",
       "      <td>3</td>\n",
       "      <td>1.51618</td>\n",
       "      <td>13.53</td>\n",
       "      <td>3.55</td>\n",
       "      <td>1.54</td>\n",
       "      <td>72.99</td>\n",
       "      <td>0.39</td>\n",
       "      <td>7.78</td>\n",
       "      <td>0.0</td>\n",
       "      <td>0.00</td>\n",
       "      <td>1</td>\n",
       "    </tr>\n",
       "    <tr>\n",
       "      <th>2</th>\n",
       "      <td>4</td>\n",
       "      <td>1.51766</td>\n",
       "      <td>13.21</td>\n",
       "      <td>3.69</td>\n",
       "      <td>1.29</td>\n",
       "      <td>72.61</td>\n",
       "      <td>0.57</td>\n",
       "      <td>8.22</td>\n",
       "      <td>0.0</td>\n",
       "      <td>0.00</td>\n",
       "      <td>1</td>\n",
       "    </tr>\n",
       "    <tr>\n",
       "      <th>3</th>\n",
       "      <td>5</td>\n",
       "      <td>1.51742</td>\n",
       "      <td>13.27</td>\n",
       "      <td>3.62</td>\n",
       "      <td>1.24</td>\n",
       "      <td>73.08</td>\n",
       "      <td>0.55</td>\n",
       "      <td>8.07</td>\n",
       "      <td>0.0</td>\n",
       "      <td>0.00</td>\n",
       "      <td>1</td>\n",
       "    </tr>\n",
       "    <tr>\n",
       "      <th>4</th>\n",
       "      <td>6</td>\n",
       "      <td>1.51596</td>\n",
       "      <td>12.79</td>\n",
       "      <td>3.61</td>\n",
       "      <td>1.62</td>\n",
       "      <td>72.97</td>\n",
       "      <td>0.64</td>\n",
       "      <td>8.07</td>\n",
       "      <td>0.0</td>\n",
       "      <td>0.26</td>\n",
       "      <td>1</td>\n",
       "    </tr>\n",
       "    <tr>\n",
       "      <th>5</th>\n",
       "      <td>7</td>\n",
       "      <td>1.51743</td>\n",
       "      <td>13.30</td>\n",
       "      <td>3.60</td>\n",
       "      <td>1.14</td>\n",
       "      <td>73.09</td>\n",
       "      <td>0.58</td>\n",
       "      <td>8.17</td>\n",
       "      <td>0.0</td>\n",
       "      <td>0.00</td>\n",
       "      <td>1</td>\n",
       "    </tr>\n",
       "    <tr>\n",
       "      <th>6</th>\n",
       "      <td>8</td>\n",
       "      <td>1.51756</td>\n",
       "      <td>13.15</td>\n",
       "      <td>3.61</td>\n",
       "      <td>1.05</td>\n",
       "      <td>73.24</td>\n",
       "      <td>0.57</td>\n",
       "      <td>8.24</td>\n",
       "      <td>0.0</td>\n",
       "      <td>0.00</td>\n",
       "      <td>1</td>\n",
       "    </tr>\n",
       "    <tr>\n",
       "      <th>7</th>\n",
       "      <td>9</td>\n",
       "      <td>1.51918</td>\n",
       "      <td>14.04</td>\n",
       "      <td>3.58</td>\n",
       "      <td>1.37</td>\n",
       "      <td>72.08</td>\n",
       "      <td>0.56</td>\n",
       "      <td>8.30</td>\n",
       "      <td>0.0</td>\n",
       "      <td>0.00</td>\n",
       "      <td>1</td>\n",
       "    </tr>\n",
       "    <tr>\n",
       "      <th>8</th>\n",
       "      <td>10</td>\n",
       "      <td>1.51755</td>\n",
       "      <td>13.00</td>\n",
       "      <td>3.60</td>\n",
       "      <td>1.36</td>\n",
       "      <td>72.99</td>\n",
       "      <td>0.57</td>\n",
       "      <td>8.40</td>\n",
       "      <td>0.0</td>\n",
       "      <td>0.11</td>\n",
       "      <td>1</td>\n",
       "    </tr>\n",
       "    <tr>\n",
       "      <th>9</th>\n",
       "      <td>11</td>\n",
       "      <td>1.51571</td>\n",
       "      <td>12.72</td>\n",
       "      <td>3.46</td>\n",
       "      <td>1.56</td>\n",
       "      <td>73.20</td>\n",
       "      <td>0.67</td>\n",
       "      <td>8.09</td>\n",
       "      <td>0.0</td>\n",
       "      <td>0.24</td>\n",
       "      <td>1</td>\n",
       "    </tr>\n",
       "    <tr>\n",
       "      <th>10</th>\n",
       "      <td>12</td>\n",
       "      <td>1.51763</td>\n",
       "      <td>12.80</td>\n",
       "      <td>3.66</td>\n",
       "      <td>1.27</td>\n",
       "      <td>73.01</td>\n",
       "      <td>0.60</td>\n",
       "      <td>8.56</td>\n",
       "      <td>0.0</td>\n",
       "      <td>0.00</td>\n",
       "      <td>1</td>\n",
       "    </tr>\n",
       "    <tr>\n",
       "      <th>11</th>\n",
       "      <td>13</td>\n",
       "      <td>1.51589</td>\n",
       "      <td>12.88</td>\n",
       "      <td>3.43</td>\n",
       "      <td>1.40</td>\n",
       "      <td>73.28</td>\n",
       "      <td>0.69</td>\n",
       "      <td>8.05</td>\n",
       "      <td>0.0</td>\n",
       "      <td>0.24</td>\n",
       "      <td>1</td>\n",
       "    </tr>\n",
       "    <tr>\n",
       "      <th>12</th>\n",
       "      <td>14</td>\n",
       "      <td>1.51748</td>\n",
       "      <td>12.86</td>\n",
       "      <td>3.56</td>\n",
       "      <td>1.27</td>\n",
       "      <td>73.21</td>\n",
       "      <td>0.54</td>\n",
       "      <td>8.38</td>\n",
       "      <td>0.0</td>\n",
       "      <td>0.17</td>\n",
       "      <td>1</td>\n",
       "    </tr>\n",
       "    <tr>\n",
       "      <th>13</th>\n",
       "      <td>15</td>\n",
       "      <td>1.51763</td>\n",
       "      <td>12.61</td>\n",
       "      <td>3.59</td>\n",
       "      <td>1.31</td>\n",
       "      <td>73.29</td>\n",
       "      <td>0.58</td>\n",
       "      <td>8.50</td>\n",
       "      <td>0.0</td>\n",
       "      <td>0.00</td>\n",
       "      <td>1</td>\n",
       "    </tr>\n",
       "    <tr>\n",
       "      <th>14</th>\n",
       "      <td>16</td>\n",
       "      <td>1.51761</td>\n",
       "      <td>12.81</td>\n",
       "      <td>3.54</td>\n",
       "      <td>1.23</td>\n",
       "      <td>73.24</td>\n",
       "      <td>0.58</td>\n",
       "      <td>8.39</td>\n",
       "      <td>0.0</td>\n",
       "      <td>0.00</td>\n",
       "      <td>1</td>\n",
       "    </tr>\n",
       "  </tbody>\n",
       "</table>\n",
       "</div>"
      ],
      "text/plain": [
       "    ID number  refractive index  sodium  magnesium  aluminium  silicon  \\\n",
       "0           2           1.51761   13.89       3.60       1.36    72.73   \n",
       "1           3           1.51618   13.53       3.55       1.54    72.99   \n",
       "2           4           1.51766   13.21       3.69       1.29    72.61   \n",
       "3           5           1.51742   13.27       3.62       1.24    73.08   \n",
       "4           6           1.51596   12.79       3.61       1.62    72.97   \n",
       "5           7           1.51743   13.30       3.60       1.14    73.09   \n",
       "6           8           1.51756   13.15       3.61       1.05    73.24   \n",
       "7           9           1.51918   14.04       3.58       1.37    72.08   \n",
       "8          10           1.51755   13.00       3.60       1.36    72.99   \n",
       "9          11           1.51571   12.72       3.46       1.56    73.20   \n",
       "10         12           1.51763   12.80       3.66       1.27    73.01   \n",
       "11         13           1.51589   12.88       3.43       1.40    73.28   \n",
       "12         14           1.51748   12.86       3.56       1.27    73.21   \n",
       "13         15           1.51763   12.61       3.59       1.31    73.29   \n",
       "14         16           1.51761   12.81       3.54       1.23    73.24   \n",
       "\n",
       "    potassium  calcium  barium  iron  class attribute  \n",
       "0        0.48     7.83     0.0  0.00                1  \n",
       "1        0.39     7.78     0.0  0.00                1  \n",
       "2        0.57     8.22     0.0  0.00                1  \n",
       "3        0.55     8.07     0.0  0.00                1  \n",
       "4        0.64     8.07     0.0  0.26                1  \n",
       "5        0.58     8.17     0.0  0.00                1  \n",
       "6        0.57     8.24     0.0  0.00                1  \n",
       "7        0.56     8.30     0.0  0.00                1  \n",
       "8        0.57     8.40     0.0  0.11                1  \n",
       "9        0.67     8.09     0.0  0.24                1  \n",
       "10       0.60     8.56     0.0  0.00                1  \n",
       "11       0.69     8.05     0.0  0.24                1  \n",
       "12       0.54     8.38     0.0  0.17                1  \n",
       "13       0.58     8.50     0.0  0.00                1  \n",
       "14       0.58     8.39     0.0  0.00                1  "
      ]
     },
     "execution_count": 8,
     "metadata": {},
     "output_type": "execute_result"
    }
   ],
   "source": [
    "df1.head(15)"
   ]
  },
  {
   "cell_type": "code",
   "execution_count": 9,
   "id": "2407c2fc",
   "metadata": {},
   "outputs": [],
   "source": [
    "df1.drop('ID number',axis=1,inplace=True)"
   ]
  },
  {
   "cell_type": "code",
   "execution_count": null,
   "id": "8ba80821",
   "metadata": {},
   "outputs": [],
   "source": []
  },
  {
   "cell_type": "code",
   "execution_count": 10,
   "id": "aa5b0ea5",
   "metadata": {},
   "outputs": [
    {
     "data": {
      "text/html": [
       "<div>\n",
       "<style scoped>\n",
       "    .dataframe tbody tr th:only-of-type {\n",
       "        vertical-align: middle;\n",
       "    }\n",
       "\n",
       "    .dataframe tbody tr th {\n",
       "        vertical-align: top;\n",
       "    }\n",
       "\n",
       "    .dataframe thead th {\n",
       "        text-align: right;\n",
       "    }\n",
       "</style>\n",
       "<table border=\"1\" class=\"dataframe\">\n",
       "  <thead>\n",
       "    <tr style=\"text-align: right;\">\n",
       "      <th></th>\n",
       "      <th>refractive index</th>\n",
       "      <th>sodium</th>\n",
       "      <th>magnesium</th>\n",
       "      <th>aluminium</th>\n",
       "      <th>silicon</th>\n",
       "      <th>potassium</th>\n",
       "      <th>calcium</th>\n",
       "      <th>barium</th>\n",
       "      <th>iron</th>\n",
       "      <th>class attribute</th>\n",
       "    </tr>\n",
       "  </thead>\n",
       "  <tbody>\n",
       "    <tr>\n",
       "      <th>198</th>\n",
       "      <td>1.51609</td>\n",
       "      <td>15.01</td>\n",
       "      <td>0.0</td>\n",
       "      <td>2.51</td>\n",
       "      <td>73.05</td>\n",
       "      <td>0.05</td>\n",
       "      <td>8.83</td>\n",
       "      <td>0.53</td>\n",
       "      <td>0.0</td>\n",
       "      <td>7</td>\n",
       "    </tr>\n",
       "    <tr>\n",
       "      <th>199</th>\n",
       "      <td>1.51508</td>\n",
       "      <td>15.15</td>\n",
       "      <td>0.0</td>\n",
       "      <td>2.25</td>\n",
       "      <td>73.50</td>\n",
       "      <td>0.00</td>\n",
       "      <td>8.34</td>\n",
       "      <td>0.63</td>\n",
       "      <td>0.0</td>\n",
       "      <td>7</td>\n",
       "    </tr>\n",
       "    <tr>\n",
       "      <th>200</th>\n",
       "      <td>1.51653</td>\n",
       "      <td>11.95</td>\n",
       "      <td>0.0</td>\n",
       "      <td>1.19</td>\n",
       "      <td>75.18</td>\n",
       "      <td>2.70</td>\n",
       "      <td>8.93</td>\n",
       "      <td>0.00</td>\n",
       "      <td>0.0</td>\n",
       "      <td>7</td>\n",
       "    </tr>\n",
       "    <tr>\n",
       "      <th>201</th>\n",
       "      <td>1.51514</td>\n",
       "      <td>14.85</td>\n",
       "      <td>0.0</td>\n",
       "      <td>2.42</td>\n",
       "      <td>73.72</td>\n",
       "      <td>0.00</td>\n",
       "      <td>8.39</td>\n",
       "      <td>0.56</td>\n",
       "      <td>0.0</td>\n",
       "      <td>7</td>\n",
       "    </tr>\n",
       "    <tr>\n",
       "      <th>202</th>\n",
       "      <td>1.51658</td>\n",
       "      <td>14.80</td>\n",
       "      <td>0.0</td>\n",
       "      <td>1.99</td>\n",
       "      <td>73.11</td>\n",
       "      <td>0.00</td>\n",
       "      <td>8.28</td>\n",
       "      <td>1.71</td>\n",
       "      <td>0.0</td>\n",
       "      <td>7</td>\n",
       "    </tr>\n",
       "    <tr>\n",
       "      <th>203</th>\n",
       "      <td>1.51617</td>\n",
       "      <td>14.95</td>\n",
       "      <td>0.0</td>\n",
       "      <td>2.27</td>\n",
       "      <td>73.30</td>\n",
       "      <td>0.00</td>\n",
       "      <td>8.71</td>\n",
       "      <td>0.67</td>\n",
       "      <td>0.0</td>\n",
       "      <td>7</td>\n",
       "    </tr>\n",
       "    <tr>\n",
       "      <th>204</th>\n",
       "      <td>1.51732</td>\n",
       "      <td>14.95</td>\n",
       "      <td>0.0</td>\n",
       "      <td>1.80</td>\n",
       "      <td>72.99</td>\n",
       "      <td>0.00</td>\n",
       "      <td>8.61</td>\n",
       "      <td>1.55</td>\n",
       "      <td>0.0</td>\n",
       "      <td>7</td>\n",
       "    </tr>\n",
       "    <tr>\n",
       "      <th>205</th>\n",
       "      <td>1.51645</td>\n",
       "      <td>14.94</td>\n",
       "      <td>0.0</td>\n",
       "      <td>1.87</td>\n",
       "      <td>73.11</td>\n",
       "      <td>0.00</td>\n",
       "      <td>8.67</td>\n",
       "      <td>1.38</td>\n",
       "      <td>0.0</td>\n",
       "      <td>7</td>\n",
       "    </tr>\n",
       "    <tr>\n",
       "      <th>206</th>\n",
       "      <td>1.51831</td>\n",
       "      <td>14.39</td>\n",
       "      <td>0.0</td>\n",
       "      <td>1.82</td>\n",
       "      <td>72.86</td>\n",
       "      <td>1.41</td>\n",
       "      <td>6.47</td>\n",
       "      <td>2.88</td>\n",
       "      <td>0.0</td>\n",
       "      <td>7</td>\n",
       "    </tr>\n",
       "    <tr>\n",
       "      <th>207</th>\n",
       "      <td>1.51640</td>\n",
       "      <td>14.37</td>\n",
       "      <td>0.0</td>\n",
       "      <td>2.74</td>\n",
       "      <td>72.85</td>\n",
       "      <td>0.00</td>\n",
       "      <td>9.45</td>\n",
       "      <td>0.54</td>\n",
       "      <td>0.0</td>\n",
       "      <td>7</td>\n",
       "    </tr>\n",
       "    <tr>\n",
       "      <th>208</th>\n",
       "      <td>1.51623</td>\n",
       "      <td>14.14</td>\n",
       "      <td>0.0</td>\n",
       "      <td>2.88</td>\n",
       "      <td>72.61</td>\n",
       "      <td>0.08</td>\n",
       "      <td>9.18</td>\n",
       "      <td>1.06</td>\n",
       "      <td>0.0</td>\n",
       "      <td>7</td>\n",
       "    </tr>\n",
       "    <tr>\n",
       "      <th>209</th>\n",
       "      <td>1.51685</td>\n",
       "      <td>14.92</td>\n",
       "      <td>0.0</td>\n",
       "      <td>1.99</td>\n",
       "      <td>73.06</td>\n",
       "      <td>0.00</td>\n",
       "      <td>8.40</td>\n",
       "      <td>1.59</td>\n",
       "      <td>0.0</td>\n",
       "      <td>7</td>\n",
       "    </tr>\n",
       "    <tr>\n",
       "      <th>210</th>\n",
       "      <td>1.52065</td>\n",
       "      <td>14.36</td>\n",
       "      <td>0.0</td>\n",
       "      <td>2.02</td>\n",
       "      <td>73.42</td>\n",
       "      <td>0.00</td>\n",
       "      <td>8.44</td>\n",
       "      <td>1.64</td>\n",
       "      <td>0.0</td>\n",
       "      <td>7</td>\n",
       "    </tr>\n",
       "    <tr>\n",
       "      <th>211</th>\n",
       "      <td>1.51651</td>\n",
       "      <td>14.38</td>\n",
       "      <td>0.0</td>\n",
       "      <td>1.94</td>\n",
       "      <td>73.61</td>\n",
       "      <td>0.00</td>\n",
       "      <td>8.48</td>\n",
       "      <td>1.57</td>\n",
       "      <td>0.0</td>\n",
       "      <td>7</td>\n",
       "    </tr>\n",
       "    <tr>\n",
       "      <th>212</th>\n",
       "      <td>1.51711</td>\n",
       "      <td>14.23</td>\n",
       "      <td>0.0</td>\n",
       "      <td>2.08</td>\n",
       "      <td>73.36</td>\n",
       "      <td>0.00</td>\n",
       "      <td>8.62</td>\n",
       "      <td>1.67</td>\n",
       "      <td>0.0</td>\n",
       "      <td>7</td>\n",
       "    </tr>\n",
       "  </tbody>\n",
       "</table>\n",
       "</div>"
      ],
      "text/plain": [
       "     refractive index  sodium  magnesium  aluminium  silicon  potassium  \\\n",
       "198           1.51609   15.01        0.0       2.51    73.05       0.05   \n",
       "199           1.51508   15.15        0.0       2.25    73.50       0.00   \n",
       "200           1.51653   11.95        0.0       1.19    75.18       2.70   \n",
       "201           1.51514   14.85        0.0       2.42    73.72       0.00   \n",
       "202           1.51658   14.80        0.0       1.99    73.11       0.00   \n",
       "203           1.51617   14.95        0.0       2.27    73.30       0.00   \n",
       "204           1.51732   14.95        0.0       1.80    72.99       0.00   \n",
       "205           1.51645   14.94        0.0       1.87    73.11       0.00   \n",
       "206           1.51831   14.39        0.0       1.82    72.86       1.41   \n",
       "207           1.51640   14.37        0.0       2.74    72.85       0.00   \n",
       "208           1.51623   14.14        0.0       2.88    72.61       0.08   \n",
       "209           1.51685   14.92        0.0       1.99    73.06       0.00   \n",
       "210           1.52065   14.36        0.0       2.02    73.42       0.00   \n",
       "211           1.51651   14.38        0.0       1.94    73.61       0.00   \n",
       "212           1.51711   14.23        0.0       2.08    73.36       0.00   \n",
       "\n",
       "     calcium  barium  iron  class attribute  \n",
       "198     8.83    0.53   0.0                7  \n",
       "199     8.34    0.63   0.0                7  \n",
       "200     8.93    0.00   0.0                7  \n",
       "201     8.39    0.56   0.0                7  \n",
       "202     8.28    1.71   0.0                7  \n",
       "203     8.71    0.67   0.0                7  \n",
       "204     8.61    1.55   0.0                7  \n",
       "205     8.67    1.38   0.0                7  \n",
       "206     6.47    2.88   0.0                7  \n",
       "207     9.45    0.54   0.0                7  \n",
       "208     9.18    1.06   0.0                7  \n",
       "209     8.40    1.59   0.0                7  \n",
       "210     8.44    1.64   0.0                7  \n",
       "211     8.48    1.57   0.0                7  \n",
       "212     8.62    1.67   0.0                7  "
      ]
     },
     "execution_count": 10,
     "metadata": {},
     "output_type": "execute_result"
    }
   ],
   "source": [
    "df1.tail(15)"
   ]
  },
  {
   "cell_type": "code",
   "execution_count": 11,
   "id": "5ff2b006",
   "metadata": {},
   "outputs": [
    {
     "data": {
      "text/plain": [
       "refractive index    float64\n",
       "sodium              float64\n",
       "magnesium           float64\n",
       "aluminium           float64\n",
       "silicon             float64\n",
       "potassium           float64\n",
       "calcium             float64\n",
       "barium              float64\n",
       "iron                float64\n",
       "class attribute       int64\n",
       "dtype: object"
      ]
     },
     "execution_count": 11,
     "metadata": {},
     "output_type": "execute_result"
    }
   ],
   "source": [
    "df1.dtypes"
   ]
  },
  {
   "cell_type": "markdown",
   "id": "3af8c92f",
   "metadata": {},
   "source": [
    "this datasets contain integer and float type data"
   ]
  },
  {
   "cell_type": "code",
   "execution_count": 12,
   "id": "16f8add0",
   "metadata": {},
   "outputs": [
    {
     "name": "stdout",
     "output_type": "stream",
     "text": [
      "1.52152    3\n",
      "1.51590    3\n",
      "1.51645    3\n",
      "1.51761    2\n",
      "1.51613    2\n",
      "          ..\n",
      "1.51625    1\n",
      "1.51569    1\n",
      "1.51605    1\n",
      "1.51588    1\n",
      "1.51651    1\n",
      "Name: refractive index, Length: 177, dtype: int64\n",
      "13.21    5\n",
      "13.02    5\n",
      "13.00    5\n",
      "12.85    4\n",
      "12.86    4\n",
      "        ..\n",
      "13.34    1\n",
      "13.31    1\n",
      "14.17    1\n",
      "13.51    1\n",
      "14.23    1\n",
      "Name: sodium, Length: 142, dtype: int64\n",
      "0.00    42\n",
      "3.48     8\n",
      "3.58     8\n",
      "3.54     8\n",
      "3.52     7\n",
      "        ..\n",
      "3.46     1\n",
      "3.73     1\n",
      "3.97     1\n",
      "3.89     1\n",
      "1.78     1\n",
      "Name: magnesium, Length: 93, dtype: int64\n",
      "1.54    8\n",
      "1.19    6\n",
      "1.56    5\n",
      "1.29    5\n",
      "1.43    5\n",
      "       ..\n",
      "1.61    1\n",
      "0.88    1\n",
      "1.05    1\n",
      "0.65    1\n",
      "1.94    1\n",
      "Name: aluminium, Length: 117, dtype: int64\n",
      "72.99    4\n",
      "73.10    4\n",
      "72.86    4\n",
      "73.28    4\n",
      "73.11    4\n",
      "        ..\n",
      "70.57    1\n",
      "73.81    1\n",
      "72.92    1\n",
      "73.55    1\n",
      "73.61    1\n",
      "Name: silicon, Length: 132, dtype: int64\n",
      "0.00    30\n",
      "0.57    12\n",
      "0.56    11\n",
      "0.60    11\n",
      "0.58    10\n",
      "        ..\n",
      "0.44     1\n",
      "0.07     1\n",
      "0.73     1\n",
      "0.70     1\n",
      "1.41     1\n",
      "Name: potassium, Length: 65, dtype: int64\n",
      "8.03    5\n",
      "8.43    5\n",
      "8.44    4\n",
      "9.57    4\n",
      "8.79    4\n",
      "       ..\n",
      "8.90    1\n",
      "9.13    1\n",
      "7.78    1\n",
      "8.96    1\n",
      "8.62    1\n",
      "Name: calcium, Length: 143, dtype: int64\n",
      "0.00    175\n",
      "0.64      2\n",
      "1.57      2\n",
      "0.09      2\n",
      "1.59      2\n",
      "0.11      2\n",
      "3.15      1\n",
      "0.81      1\n",
      "1.64      1\n",
      "1.06      1\n",
      "0.54      1\n",
      "2.88      1\n",
      "1.38      1\n",
      "1.55      1\n",
      "0.67      1\n",
      "1.71      1\n",
      "0.56      1\n",
      "0.63      1\n",
      "0.53      1\n",
      "0.66      1\n",
      "0.61      1\n",
      "0.27      1\n",
      "0.69      1\n",
      "0.40      1\n",
      "0.14      1\n",
      "0.76      1\n",
      "1.68      1\n",
      "1.63      1\n",
      "1.19      1\n",
      "0.24      1\n",
      "2.20      1\n",
      "0.15      1\n",
      "0.06      1\n",
      "1.67      1\n",
      "Name: barium, dtype: int64\n",
      "0.00    143\n",
      "0.24      7\n",
      "0.17      7\n",
      "0.09      6\n",
      "0.10      5\n",
      "0.11      4\n",
      "0.16      3\n",
      "0.28      3\n",
      "0.12      3\n",
      "0.22      3\n",
      "0.14      3\n",
      "0.07      3\n",
      "0.19      2\n",
      "0.15      2\n",
      "0.08      2\n",
      "0.06      1\n",
      "0.21      1\n",
      "0.05      1\n",
      "0.51      1\n",
      "0.37      1\n",
      "0.35      1\n",
      "0.25      1\n",
      "0.18      1\n",
      "0.34      1\n",
      "0.29      1\n",
      "0.30      1\n",
      "0.20      1\n",
      "0.32      1\n",
      "0.26      1\n",
      "0.03      1\n",
      "0.31      1\n",
      "0.01      1\n",
      "Name: iron, dtype: int64\n",
      "2    76\n",
      "1    69\n",
      "7    29\n",
      "3    17\n",
      "5    13\n",
      "6     9\n",
      "Name: class attribute, dtype: int64\n"
     ]
    }
   ],
   "source": [
    "for i in df1.columns:\n",
    "    print(df1[i].value_counts())"
   ]
  },
  {
   "cell_type": "code",
   "execution_count": 12,
   "id": "e015632b",
   "metadata": {},
   "outputs": [
    {
     "data": {
      "text/plain": [
       "ID number           0\n",
       "refractive index    0\n",
       "sodium              0\n",
       "magnesium           0\n",
       "aluminium           0\n",
       "silicon             0\n",
       "potassium           0\n",
       "calcium             0\n",
       "barium              0\n",
       "iron                0\n",
       "class attribute     0\n",
       "dtype: int64"
      ]
     },
     "execution_count": 12,
     "metadata": {},
     "output_type": "execute_result"
    }
   ],
   "source": [
    "df1.isnull().sum()"
   ]
  },
  {
   "cell_type": "markdown",
   "id": "a57b9229",
   "metadata": {},
   "source": [
    "this datasets contain not any missing value"
   ]
  },
  {
   "cell_type": "code",
   "execution_count": 18,
   "id": "57bad481",
   "metadata": {},
   "outputs": [
    {
     "data": {
      "text/html": [
       "<div>\n",
       "<style scoped>\n",
       "    .dataframe tbody tr th:only-of-type {\n",
       "        vertical-align: middle;\n",
       "    }\n",
       "\n",
       "    .dataframe tbody tr th {\n",
       "        vertical-align: top;\n",
       "    }\n",
       "\n",
       "    .dataframe thead th {\n",
       "        text-align: right;\n",
       "    }\n",
       "</style>\n",
       "<table border=\"1\" class=\"dataframe\">\n",
       "  <thead>\n",
       "    <tr style=\"text-align: right;\">\n",
       "      <th></th>\n",
       "      <th>refractive index</th>\n",
       "      <th>sodium</th>\n",
       "      <th>magnesium</th>\n",
       "      <th>aluminium</th>\n",
       "      <th>silicon</th>\n",
       "      <th>potassium</th>\n",
       "      <th>calcium</th>\n",
       "      <th>barium</th>\n",
       "      <th>iron</th>\n",
       "      <th>class attribute</th>\n",
       "    </tr>\n",
       "  </thead>\n",
       "  <tbody>\n",
       "    <tr>\n",
       "      <th>count</th>\n",
       "      <td>213.000000</td>\n",
       "      <td>213.000000</td>\n",
       "      <td>213.000000</td>\n",
       "      <td>213.000000</td>\n",
       "      <td>213.000000</td>\n",
       "      <td>213.000000</td>\n",
       "      <td>213.000000</td>\n",
       "      <td>213.000000</td>\n",
       "      <td>213.000000</td>\n",
       "      <td>213.000000</td>\n",
       "    </tr>\n",
       "    <tr>\n",
       "      <th>mean</th>\n",
       "      <td>1.518353</td>\n",
       "      <td>13.406761</td>\n",
       "      <td>2.676056</td>\n",
       "      <td>1.446526</td>\n",
       "      <td>72.655023</td>\n",
       "      <td>0.499108</td>\n",
       "      <td>8.957934</td>\n",
       "      <td>0.175869</td>\n",
       "      <td>0.057277</td>\n",
       "      <td>2.788732</td>\n",
       "    </tr>\n",
       "    <tr>\n",
       "      <th>std</th>\n",
       "      <td>0.003039</td>\n",
       "      <td>0.818371</td>\n",
       "      <td>1.440453</td>\n",
       "      <td>0.499882</td>\n",
       "      <td>0.774052</td>\n",
       "      <td>0.653035</td>\n",
       "      <td>1.426435</td>\n",
       "      <td>0.498245</td>\n",
       "      <td>0.097589</td>\n",
       "      <td>2.105130</td>\n",
       "    </tr>\n",
       "    <tr>\n",
       "      <th>min</th>\n",
       "      <td>1.511150</td>\n",
       "      <td>10.730000</td>\n",
       "      <td>0.000000</td>\n",
       "      <td>0.290000</td>\n",
       "      <td>69.810000</td>\n",
       "      <td>0.000000</td>\n",
       "      <td>5.430000</td>\n",
       "      <td>0.000000</td>\n",
       "      <td>0.000000</td>\n",
       "      <td>1.000000</td>\n",
       "    </tr>\n",
       "    <tr>\n",
       "      <th>25%</th>\n",
       "      <td>1.516520</td>\n",
       "      <td>12.900000</td>\n",
       "      <td>2.090000</td>\n",
       "      <td>1.190000</td>\n",
       "      <td>72.280000</td>\n",
       "      <td>0.130000</td>\n",
       "      <td>8.240000</td>\n",
       "      <td>0.000000</td>\n",
       "      <td>0.000000</td>\n",
       "      <td>1.000000</td>\n",
       "    </tr>\n",
       "    <tr>\n",
       "      <th>50%</th>\n",
       "      <td>1.517680</td>\n",
       "      <td>13.300000</td>\n",
       "      <td>3.480000</td>\n",
       "      <td>1.360000</td>\n",
       "      <td>72.790000</td>\n",
       "      <td>0.560000</td>\n",
       "      <td>8.600000</td>\n",
       "      <td>0.000000</td>\n",
       "      <td>0.000000</td>\n",
       "      <td>2.000000</td>\n",
       "    </tr>\n",
       "    <tr>\n",
       "      <th>75%</th>\n",
       "      <td>1.519150</td>\n",
       "      <td>13.830000</td>\n",
       "      <td>3.600000</td>\n",
       "      <td>1.630000</td>\n",
       "      <td>73.090000</td>\n",
       "      <td>0.610000</td>\n",
       "      <td>9.180000</td>\n",
       "      <td>0.000000</td>\n",
       "      <td>0.100000</td>\n",
       "      <td>3.000000</td>\n",
       "    </tr>\n",
       "    <tr>\n",
       "      <th>max</th>\n",
       "      <td>1.533930</td>\n",
       "      <td>17.380000</td>\n",
       "      <td>3.980000</td>\n",
       "      <td>3.500000</td>\n",
       "      <td>75.410000</td>\n",
       "      <td>6.210000</td>\n",
       "      <td>16.190000</td>\n",
       "      <td>3.150000</td>\n",
       "      <td>0.510000</td>\n",
       "      <td>7.000000</td>\n",
       "    </tr>\n",
       "  </tbody>\n",
       "</table>\n",
       "</div>"
      ],
      "text/plain": [
       "       refractive index      sodium   magnesium   aluminium     silicon  \\\n",
       "count        213.000000  213.000000  213.000000  213.000000  213.000000   \n",
       "mean           1.518353   13.406761    2.676056    1.446526   72.655023   \n",
       "std            0.003039    0.818371    1.440453    0.499882    0.774052   \n",
       "min            1.511150   10.730000    0.000000    0.290000   69.810000   \n",
       "25%            1.516520   12.900000    2.090000    1.190000   72.280000   \n",
       "50%            1.517680   13.300000    3.480000    1.360000   72.790000   \n",
       "75%            1.519150   13.830000    3.600000    1.630000   73.090000   \n",
       "max            1.533930   17.380000    3.980000    3.500000   75.410000   \n",
       "\n",
       "        potassium     calcium      barium        iron  class attribute  \n",
       "count  213.000000  213.000000  213.000000  213.000000       213.000000  \n",
       "mean     0.499108    8.957934    0.175869    0.057277         2.788732  \n",
       "std      0.653035    1.426435    0.498245    0.097589         2.105130  \n",
       "min      0.000000    5.430000    0.000000    0.000000         1.000000  \n",
       "25%      0.130000    8.240000    0.000000    0.000000         1.000000  \n",
       "50%      0.560000    8.600000    0.000000    0.000000         2.000000  \n",
       "75%      0.610000    9.180000    0.000000    0.100000         3.000000  \n",
       "max      6.210000   16.190000    3.150000    0.510000         7.000000  "
      ]
     },
     "execution_count": 18,
     "metadata": {},
     "output_type": "execute_result"
    }
   ],
   "source": [
    "df1.describe()"
   ]
  },
  {
   "cell_type": "markdown",
   "id": "8c731cb9",
   "metadata": {},
   "source": [
    "This gives statical information of numerical columns\n",
    "from above we can observe following\n",
    "The counts of all columns are same means no data is missing\n",
    "The median value is greater than mean in magnesium and silicon column means data is skewed to left side\n",
    "The mean value is greater than median in aluminium and calcium means data is skewed to right side \n",
    "we can observe there is a difference between 75% and max hence outlier is present"
   ]
  },
  {
   "cell_type": "code",
   "execution_count": 14,
   "id": "1b060bb2",
   "metadata": {},
   "outputs": [
    {
     "name": "stdout",
     "output_type": "stream",
     "text": [
      "2    76\n",
      "1    69\n",
      "7    29\n",
      "3    17\n",
      "5    13\n",
      "6     9\n",
      "Name: class attribute, dtype: int64\n"
     ]
    },
    {
     "data": {
      "image/png": "[encoded data removed]",
      "text/plain": [
       "<Figure size 640x480 with 1 Axes>"
      ]
     },
     "metadata": {},
     "output_type": "display_data"
    }
   ],
   "source": [
    "sns.countplot(x='class attribute',data=df1)\n",
    "print(df1['class attribute'].value_counts())"
   ]
  },
  {
   "cell_type": "code",
   "execution_count": null,
   "id": "f2c31756",
   "metadata": {},
   "outputs": [],
   "source": []
  },
  {
   "cell_type": "code",
   "execution_count": 19,
   "id": "08c2ac61",
   "metadata": {},
   "outputs": [
    {
     "data": {
      "text/plain": [
       "<Axes: xlabel='class attribute', ylabel='refractive index'>"
      ]
     },
     "execution_count": 19,
     "metadata": {},
     "output_type": "execute_result"
    },
    {
     "data": {
      "image/png": "[encoded data removed]",
      "text/plain": [
       "<Figure size 640x480 with 1 Axes>"
      ]
     },
     "metadata": {},
     "output_type": "display_data"
    }
   ],
   "source": [
    "sns.stripplot(x='class attribute',y='refractive index',data=df1)"
   ]
  },
  {
   "cell_type": "code",
   "execution_count": 16,
   "id": "eb2fe948",
   "metadata": {},
   "outputs": [
    {
     "data": {
      "text/plain": [
       "<Axes: xlabel='class attribute', ylabel='aluminium'>"
      ]
     },
     "execution_count": 16,
     "metadata": {},
     "output_type": "execute_result"
    },
    {
     "data": {
      "image/png": "[encoded data removed]",
      "text/plain": [
       "<Figure size 640x480 with 1 Axes>"
      ]
     },
     "metadata": {},
     "output_type": "display_data"
    }
   ],
   "source": [
    "sns.stripplot(x='class attribute',y='aluminium',data=df1)"
   ]
  },
  {
   "cell_type": "code",
   "execution_count": 17,
   "id": "ba4f15e1",
   "metadata": {},
   "outputs": [
    {
     "data": {
      "text/plain": [
       "<Axes: xlabel='class attribute', ylabel='sodium'>"
      ]
     },
     "execution_count": 17,
     "metadata": {},
     "output_type": "execute_result"
    },
    {
     "data": {
      "image/png": "[encoded data removed]",
      "text/plain": [
       "<Figure size 640x480 with 1 Axes>"
      ]
     },
     "metadata": {},
     "output_type": "display_data"
    }
   ],
   "source": [
    "sns.stripplot(x='class attribute',y='sodium',data=df1)"
   ]
  },
  {
   "cell_type": "code",
   "execution_count": 18,
   "id": "b56bea87",
   "metadata": {},
   "outputs": [
    {
     "data": {
      "text/plain": [
       "<Axes: xlabel='class attribute', ylabel='potassium'>"
      ]
     },
     "execution_count": 18,
     "metadata": {},
     "output_type": "execute_result"
    },
    {
     "data": {
      "image/png": "[encoded data removed]",
      "text/plain": [
       "<Figure size 640x480 with 1 Axes>"
      ]
     },
     "metadata": {},
     "output_type": "display_data"
    }
   ],
   "source": [
    "sns.stripplot(x='class attribute',y='potassium',data=df1)"
   ]
  },
  {
   "cell_type": "code",
   "execution_count": 19,
   "id": "dd20b5ce",
   "metadata": {},
   "outputs": [
    {
     "data": {
      "text/plain": [
       "<Axes: xlabel='class attribute', ylabel='sodium'>"
      ]
     },
     "execution_count": 19,
     "metadata": {},
     "output_type": "execute_result"
    },
    {
     "data": {
      "image/png": "[encoded data removed]",
      "text/plain": [
       "<Figure size 640x480 with 1 Axes>"
      ]
     },
     "metadata": {},
     "output_type": "display_data"
    }
   ],
   "source": [
    "sns.barplot(x='class attribute',y='sodium',data=df1)"
   ]
  },
  {
   "cell_type": "code",
   "execution_count": 20,
   "id": "4fc11607",
   "metadata": {},
   "outputs": [
    {
     "data": {
      "text/plain": [
       "<Axes: xlabel='class attribute', ylabel='magnesium'>"
      ]
     },
     "execution_count": 20,
     "metadata": {},
     "output_type": "execute_result"
    },
    {
     "data": {
      "image/png": "[encoded data removed]",
      "text/plain": [
       "<Figure size 640x480 with 1 Axes>"
      ]
     },
     "metadata": {},
     "output_type": "display_data"
    }
   ],
   "source": [
    "sns.barplot(x='class attribute',y='magnesium',data=df1)"
   ]
  },
  {
   "cell_type": "code",
   "execution_count": 26,
   "id": "6952f461",
   "metadata": {},
   "outputs": [
    {
     "data": {
      "text/plain": [
       "<Axes: xlabel='class attribute', ylabel='iron'>"
      ]
     },
     "execution_count": 26,
     "metadata": {},
     "output_type": "execute_result"
    },
    {
     "data": {
      "image/png": "[encoded data removed]",
      "text/plain": [
       "<Figure size 640x480 with 1 Axes>"
      ]
     },
     "metadata": {},
     "output_type": "display_data"
    }
   ],
   "source": [
    "sns.barplot(x='class attribute',y='iron',data=df1)"
   ]
  },
  {
   "cell_type": "code",
   "execution_count": 27,
   "id": "9b306dd9",
   "metadata": {},
   "outputs": [
    {
     "data": {
      "text/plain": [
       "<Axes: xlabel='class attribute', ylabel='barium'>"
      ]
     },
     "execution_count": 27,
     "metadata": {},
     "output_type": "execute_result"
    },
    {
     "data": {
      "image/png": "[encoded data removed]",
      "text/plain": [
       "<Figure size 640x480 with 1 Axes>"
      ]
     },
     "metadata": {},
     "output_type": "display_data"
    }
   ],
   "source": [
    "sns.barplot(x='class attribute',y='barium',data=df1)"
   ]
  },
  {
   "cell_type": "code",
   "execution_count": 28,
   "id": "2e189310",
   "metadata": {},
   "outputs": [
    {
     "data": {
      "text/plain": [
       "<Axes: >"
      ]
     },
     "execution_count": 28,
     "metadata": {},
     "output_type": "execute_result"
    },
    {
     "data": {
      "image/png": "[encoded data removed]",
      "text/plain": [
       "<Figure size 640x480 with 1 Axes>"
      ]
     },
     "metadata": {},
     "output_type": "display_data"
    }
   ],
   "source": [
    "df1['calcium'].plot.box()"
   ]
  },
  {
   "cell_type": "code",
   "execution_count": 30,
   "id": "f3b4934e",
   "metadata": {},
   "outputs": [
    {
     "data": {
      "text/plain": [
       "<Axes: >"
      ]
     },
     "execution_count": 30,
     "metadata": {},
     "output_type": "execute_result"
    },
    {
     "data": {
      "image/png": "[encoded data removed]",
      "text/plain": [
       "<Figure size 640x480 with 1 Axes>"
      ]
     },
     "metadata": {},
     "output_type": "display_data"
    }
   ],
   "source": [
    "df1['sodium'].plot.box()"
   ]
  },
  {
   "cell_type": "code",
   "execution_count": 31,
   "id": "375f9d0c",
   "metadata": {},
   "outputs": [
    {
     "data": {
      "text/plain": [
       "<Axes: >"
      ]
     },
     "execution_count": 31,
     "metadata": {},
     "output_type": "execute_result"
    },
    {
     "data": {
      "image/png": "[encoded data removed]",
      "text/plain": [
       "<Figure size 640x480 with 1 Axes>"
      ]
     },
     "metadata": {},
     "output_type": "display_data"
    }
   ],
   "source": [
    "df1['potassium'].plot.box()"
   ]
  },
  {
   "cell_type": "code",
   "execution_count": 32,
   "id": "407ed509",
   "metadata": {},
   "outputs": [
    {
     "data": {
      "text/plain": [
       "<Axes: >"
      ]
     },
     "execution_count": 32,
     "metadata": {},
     "output_type": "execute_result"
    },
    {
     "data": {
      "image/png": "[encoded data removed]",
      "text/plain": [
       "<Figure size 640x480 with 1 Axes>"
      ]
     },
     "metadata": {},
     "output_type": "display_data"
    }
   ],
   "source": [
    "df1['barium'].plot.box()"
   ]
  },
  {
   "cell_type": "code",
   "execution_count": 56,
   "id": "7e810811",
   "metadata": {},
   "outputs": [
    {
     "data": {
      "text/plain": [
       "refractive index       Axes(0.125,0.53;0.110714x0.35)\n",
       "sodium              Axes(0.257857,0.53;0.110714x0.35)\n",
       "magnesium           Axes(0.390714,0.53;0.110714x0.35)\n",
       "aluminium           Axes(0.523571,0.53;0.110714x0.35)\n",
       "silicon             Axes(0.656429,0.53;0.110714x0.35)\n",
       "potassium           Axes(0.789286,0.53;0.110714x0.35)\n",
       "calcium                Axes(0.125,0.11;0.110714x0.35)\n",
       "barium              Axes(0.257857,0.11;0.110714x0.35)\n",
       "iron                Axes(0.390714,0.11;0.110714x0.35)\n",
       "class attribute     Axes(0.523571,0.11;0.110714x0.35)\n",
       "dtype: object"
      ]
     },
     "execution_count": 56,
     "metadata": {},
     "output_type": "execute_result"
    },
    {
     "data": {
      "image/png": "[encoded data removed]",
      "text/plain": [
       "<Figure size 640x480 with 12 Axes>"
      ]
     },
     "metadata": {},
     "output_type": "display_data"
    }
   ],
   "source": [
    "df1.plot(kind='box',subplots=True,layout=(2,6))"
   ]
  },
  {
   "cell_type": "code",
   "execution_count": 15,
   "id": "ded9197b",
   "metadata": {},
   "outputs": [],
   "source": [
    "#removing the outlier\n",
    "from scipy.stats import zscore"
   ]
  },
  {
   "cell_type": "code",
   "execution_count": 13,
   "id": "ae5c656c",
   "metadata": {},
   "outputs": [],
   "source": [
    "feature=df1[['refractive index','sodium','aluminium','silicon','potassium','calcium' ,'barium','iron']]"
   ]
  },
  {
   "cell_type": "code",
   "execution_count": 16,
   "id": "bd7084f5",
   "metadata": {},
   "outputs": [],
   "source": [
    "z=np.abs(zscore(feature))"
   ]
  },
  {
   "cell_type": "code",
   "execution_count": 17,
   "id": "5d91f44a",
   "metadata": {},
   "outputs": [
    {
     "data": {
      "text/html": [
       "<div>\n",
       "<style scoped>\n",
       "    .dataframe tbody tr th:only-of-type {\n",
       "        vertical-align: middle;\n",
       "    }\n",
       "\n",
       "    .dataframe tbody tr th {\n",
       "        vertical-align: top;\n",
       "    }\n",
       "\n",
       "    .dataframe thead th {\n",
       "        text-align: right;\n",
       "    }\n",
       "</style>\n",
       "<table border=\"1\" class=\"dataframe\">\n",
       "  <thead>\n",
       "    <tr style=\"text-align: right;\">\n",
       "      <th></th>\n",
       "      <th>refractive index</th>\n",
       "      <th>sodium</th>\n",
       "      <th>aluminium</th>\n",
       "      <th>silicon</th>\n",
       "      <th>potassium</th>\n",
       "      <th>calcium</th>\n",
       "      <th>barium</th>\n",
       "      <th>iron</th>\n",
       "    </tr>\n",
       "  </thead>\n",
       "  <tbody>\n",
       "    <tr>\n",
       "      <th>0</th>\n",
       "      <td>0.245101</td>\n",
       "      <td>0.591880</td>\n",
       "      <td>0.173500</td>\n",
       "      <td>0.097091</td>\n",
       "      <td>0.029329</td>\n",
       "      <td>0.792599</td>\n",
       "      <td>0.353808</td>\n",
       "      <td>0.588301</td>\n",
       "    </tr>\n",
       "    <tr>\n",
       "      <th>1</th>\n",
       "      <td>0.716826</td>\n",
       "      <td>0.150946</td>\n",
       "      <td>0.187433</td>\n",
       "      <td>0.433777</td>\n",
       "      <td>0.167472</td>\n",
       "      <td>0.827734</td>\n",
       "      <td>0.353808</td>\n",
       "      <td>0.588301</td>\n",
       "    </tr>\n",
       "    <tr>\n",
       "      <th>2</th>\n",
       "      <td>0.228607</td>\n",
       "      <td>0.240996</td>\n",
       "      <td>0.313863</td>\n",
       "      <td>0.058303</td>\n",
       "      <td>0.108813</td>\n",
       "      <td>0.518546</td>\n",
       "      <td>0.353808</td>\n",
       "      <td>0.588301</td>\n",
       "    </tr>\n",
       "    <tr>\n",
       "      <th>3</th>\n",
       "      <td>0.307777</td>\n",
       "      <td>0.167507</td>\n",
       "      <td>0.414122</td>\n",
       "      <td>0.550322</td>\n",
       "      <td>0.078115</td>\n",
       "      <td>0.623951</td>\n",
       "      <td>0.353808</td>\n",
       "      <td>0.588301</td>\n",
       "    </tr>\n",
       "    <tr>\n",
       "      <th>4</th>\n",
       "      <td>0.789399</td>\n",
       "      <td>0.755419</td>\n",
       "      <td>0.347848</td>\n",
       "      <td>0.407878</td>\n",
       "      <td>0.216258</td>\n",
       "      <td>0.623951</td>\n",
       "      <td>0.353808</td>\n",
       "      <td>2.082200</td>\n",
       "    </tr>\n",
       "    <tr>\n",
       "      <th>...</th>\n",
       "      <td>...</td>\n",
       "      <td>...</td>\n",
       "      <td>...</td>\n",
       "      <td>...</td>\n",
       "      <td>...</td>\n",
       "      <td>...</td>\n",
       "      <td>...</td>\n",
       "      <td>...</td>\n",
       "    </tr>\n",
       "    <tr>\n",
       "      <th>208</th>\n",
       "      <td>0.700332</td>\n",
       "      <td>0.898085</td>\n",
       "      <td>2.874379</td>\n",
       "      <td>0.058303</td>\n",
       "      <td>0.643296</td>\n",
       "      <td>0.156046</td>\n",
       "      <td>1.778672</td>\n",
       "      <td>0.588301</td>\n",
       "    </tr>\n",
       "    <tr>\n",
       "      <th>209</th>\n",
       "      <td>0.495808</td>\n",
       "      <td>1.853443</td>\n",
       "      <td>1.089766</td>\n",
       "      <td>0.524423</td>\n",
       "      <td>0.766090</td>\n",
       "      <td>0.392060</td>\n",
       "      <td>2.844912</td>\n",
       "      <td>0.588301</td>\n",
       "    </tr>\n",
       "    <tr>\n",
       "      <th>210</th>\n",
       "      <td>0.757727</td>\n",
       "      <td>1.167545</td>\n",
       "      <td>1.149921</td>\n",
       "      <td>0.990604</td>\n",
       "      <td>0.766090</td>\n",
       "      <td>0.363952</td>\n",
       "      <td>2.945501</td>\n",
       "      <td>0.588301</td>\n",
       "    </tr>\n",
       "    <tr>\n",
       "      <th>211</th>\n",
       "      <td>0.607966</td>\n",
       "      <td>1.192041</td>\n",
       "      <td>0.989506</td>\n",
       "      <td>1.236644</td>\n",
       "      <td>0.766090</td>\n",
       "      <td>0.335844</td>\n",
       "      <td>2.804676</td>\n",
       "      <td>0.588301</td>\n",
       "    </tr>\n",
       "    <tr>\n",
       "      <th>212</th>\n",
       "      <td>0.410039</td>\n",
       "      <td>1.008318</td>\n",
       "      <td>1.270232</td>\n",
       "      <td>0.912907</td>\n",
       "      <td>0.766090</td>\n",
       "      <td>0.237466</td>\n",
       "      <td>3.005854</td>\n",
       "      <td>0.588301</td>\n",
       "    </tr>\n",
       "  </tbody>\n",
       "</table>\n",
       "<p>213 rows × 8 columns</p>\n",
       "</div>"
      ],
      "text/plain": [
       "     refractive index    sodium  aluminium   silicon  potassium   calcium  \\\n",
       "0            0.245101  0.591880   0.173500  0.097091   0.029329  0.792599   \n",
       "1            0.716826  0.150946   0.187433  0.433777   0.167472  0.827734   \n",
       "2            0.228607  0.240996   0.313863  0.058303   0.108813  0.518546   \n",
       "3            0.307777  0.167507   0.414122  0.550322   0.078115  0.623951   \n",
       "4            0.789399  0.755419   0.347848  0.407878   0.216258  0.623951   \n",
       "..                ...       ...        ...       ...        ...       ...   \n",
       "208          0.700332  0.898085   2.874379  0.058303   0.643296  0.156046   \n",
       "209          0.495808  1.853443   1.089766  0.524423   0.766090  0.392060   \n",
       "210          0.757727  1.167545   1.149921  0.990604   0.766090  0.363952   \n",
       "211          0.607966  1.192041   0.989506  1.236644   0.766090  0.335844   \n",
       "212          0.410039  1.008318   1.270232  0.912907   0.766090  0.237466   \n",
       "\n",
       "       barium      iron  \n",
       "0    0.353808  0.588301  \n",
       "1    0.353808  0.588301  \n",
       "2    0.353808  0.588301  \n",
       "3    0.353808  0.588301  \n",
       "4    0.353808  2.082200  \n",
       "..        ...       ...  \n",
       "208  1.778672  0.588301  \n",
       "209  2.844912  0.588301  \n",
       "210  2.945501  0.588301  \n",
       "211  2.804676  0.588301  \n",
       "212  3.005854  0.588301  \n",
       "\n",
       "[213 rows x 8 columns]"
      ]
     },
     "execution_count": 17,
     "metadata": {},
     "output_type": "execute_result"
    }
   ],
   "source": [
    "z"
   ]
  },
  {
   "cell_type": "code",
   "execution_count": 61,
   "id": "678970a8",
   "metadata": {},
   "outputs": [
    {
     "data": {
      "text/plain": [
       "(array([104, 105, 105, 105, 105, 105, 106, 106, 106, 109, 110, 111, 111,\n",
       "        130, 144, 161, 162, 162, 162, 170, 170, 171, 171, 173, 183, 183,\n",
       "        187, 188, 200, 200, 202, 206, 212], dtype=int64),\n",
       " array([5, 0, 1, 3, 5, 6, 0, 3, 5, 5, 5, 0, 5, 5, 7, 7, 2, 3, 6, 2, 4, 2,\n",
       "        4, 7, 1, 3, 3, 6, 3, 4, 6, 6, 6], dtype=int64))"
      ]
     },
     "execution_count": 61,
     "metadata": {},
     "output_type": "execute_result"
    }
   ],
   "source": [
    "np.where(z>3)"
   ]
  },
  {
   "cell_type": "code",
   "execution_count": 63,
   "id": "e2c44fd8",
   "metadata": {},
   "outputs": [
    {
     "data": {
      "text/plain": [
       "3.00900736343217"
      ]
     },
     "execution_count": 63,
     "metadata": {},
     "output_type": "execute_result"
    }
   ],
   "source": [
    "z.iloc[104,5]"
   ]
  },
  {
   "cell_type": "code",
   "execution_count": 19,
   "id": "b2698d0e",
   "metadata": {},
   "outputs": [],
   "source": [
    "df2=df1[(z<3).all(axis=1)]"
   ]
  },
  {
   "cell_type": "code",
   "execution_count": 20,
   "id": "ed0947fd",
   "metadata": {},
   "outputs": [
    {
     "data": {
      "text/html": [
       "<div>\n",
       "<style scoped>\n",
       "    .dataframe tbody tr th:only-of-type {\n",
       "        vertical-align: middle;\n",
       "    }\n",
       "\n",
       "    .dataframe tbody tr th {\n",
       "        vertical-align: top;\n",
       "    }\n",
       "\n",
       "    .dataframe thead th {\n",
       "        text-align: right;\n",
       "    }\n",
       "</style>\n",
       "<table border=\"1\" class=\"dataframe\">\n",
       "  <thead>\n",
       "    <tr style=\"text-align: right;\">\n",
       "      <th></th>\n",
       "      <th>refractive index</th>\n",
       "      <th>sodium</th>\n",
       "      <th>magnesium</th>\n",
       "      <th>aluminium</th>\n",
       "      <th>silicon</th>\n",
       "      <th>potassium</th>\n",
       "      <th>calcium</th>\n",
       "      <th>barium</th>\n",
       "      <th>iron</th>\n",
       "      <th>class attribute</th>\n",
       "    </tr>\n",
       "  </thead>\n",
       "  <tbody>\n",
       "    <tr>\n",
       "      <th>0</th>\n",
       "      <td>1.51761</td>\n",
       "      <td>13.89</td>\n",
       "      <td>3.60</td>\n",
       "      <td>1.36</td>\n",
       "      <td>72.73</td>\n",
       "      <td>0.48</td>\n",
       "      <td>7.83</td>\n",
       "      <td>0.00</td>\n",
       "      <td>0.00</td>\n",
       "      <td>1</td>\n",
       "    </tr>\n",
       "    <tr>\n",
       "      <th>1</th>\n",
       "      <td>1.51618</td>\n",
       "      <td>13.53</td>\n",
       "      <td>3.55</td>\n",
       "      <td>1.54</td>\n",
       "      <td>72.99</td>\n",
       "      <td>0.39</td>\n",
       "      <td>7.78</td>\n",
       "      <td>0.00</td>\n",
       "      <td>0.00</td>\n",
       "      <td>1</td>\n",
       "    </tr>\n",
       "    <tr>\n",
       "      <th>2</th>\n",
       "      <td>1.51766</td>\n",
       "      <td>13.21</td>\n",
       "      <td>3.69</td>\n",
       "      <td>1.29</td>\n",
       "      <td>72.61</td>\n",
       "      <td>0.57</td>\n",
       "      <td>8.22</td>\n",
       "      <td>0.00</td>\n",
       "      <td>0.00</td>\n",
       "      <td>1</td>\n",
       "    </tr>\n",
       "    <tr>\n",
       "      <th>3</th>\n",
       "      <td>1.51742</td>\n",
       "      <td>13.27</td>\n",
       "      <td>3.62</td>\n",
       "      <td>1.24</td>\n",
       "      <td>73.08</td>\n",
       "      <td>0.55</td>\n",
       "      <td>8.07</td>\n",
       "      <td>0.00</td>\n",
       "      <td>0.00</td>\n",
       "      <td>1</td>\n",
       "    </tr>\n",
       "    <tr>\n",
       "      <th>4</th>\n",
       "      <td>1.51596</td>\n",
       "      <td>12.79</td>\n",
       "      <td>3.61</td>\n",
       "      <td>1.62</td>\n",
       "      <td>72.97</td>\n",
       "      <td>0.64</td>\n",
       "      <td>8.07</td>\n",
       "      <td>0.00</td>\n",
       "      <td>0.26</td>\n",
       "      <td>1</td>\n",
       "    </tr>\n",
       "    <tr>\n",
       "      <th>...</th>\n",
       "      <td>...</td>\n",
       "      <td>...</td>\n",
       "      <td>...</td>\n",
       "      <td>...</td>\n",
       "      <td>...</td>\n",
       "      <td>...</td>\n",
       "      <td>...</td>\n",
       "      <td>...</td>\n",
       "      <td>...</td>\n",
       "      <td>...</td>\n",
       "    </tr>\n",
       "    <tr>\n",
       "      <th>207</th>\n",
       "      <td>1.51640</td>\n",
       "      <td>14.37</td>\n",
       "      <td>0.00</td>\n",
       "      <td>2.74</td>\n",
       "      <td>72.85</td>\n",
       "      <td>0.00</td>\n",
       "      <td>9.45</td>\n",
       "      <td>0.54</td>\n",
       "      <td>0.00</td>\n",
       "      <td>7</td>\n",
       "    </tr>\n",
       "    <tr>\n",
       "      <th>208</th>\n",
       "      <td>1.51623</td>\n",
       "      <td>14.14</td>\n",
       "      <td>0.00</td>\n",
       "      <td>2.88</td>\n",
       "      <td>72.61</td>\n",
       "      <td>0.08</td>\n",
       "      <td>9.18</td>\n",
       "      <td>1.06</td>\n",
       "      <td>0.00</td>\n",
       "      <td>7</td>\n",
       "    </tr>\n",
       "    <tr>\n",
       "      <th>209</th>\n",
       "      <td>1.51685</td>\n",
       "      <td>14.92</td>\n",
       "      <td>0.00</td>\n",
       "      <td>1.99</td>\n",
       "      <td>73.06</td>\n",
       "      <td>0.00</td>\n",
       "      <td>8.40</td>\n",
       "      <td>1.59</td>\n",
       "      <td>0.00</td>\n",
       "      <td>7</td>\n",
       "    </tr>\n",
       "    <tr>\n",
       "      <th>210</th>\n",
       "      <td>1.52065</td>\n",
       "      <td>14.36</td>\n",
       "      <td>0.00</td>\n",
       "      <td>2.02</td>\n",
       "      <td>73.42</td>\n",
       "      <td>0.00</td>\n",
       "      <td>8.44</td>\n",
       "      <td>1.64</td>\n",
       "      <td>0.00</td>\n",
       "      <td>7</td>\n",
       "    </tr>\n",
       "    <tr>\n",
       "      <th>211</th>\n",
       "      <td>1.51651</td>\n",
       "      <td>14.38</td>\n",
       "      <td>0.00</td>\n",
       "      <td>1.94</td>\n",
       "      <td>73.61</td>\n",
       "      <td>0.00</td>\n",
       "      <td>8.48</td>\n",
       "      <td>1.57</td>\n",
       "      <td>0.00</td>\n",
       "      <td>7</td>\n",
       "    </tr>\n",
       "  </tbody>\n",
       "</table>\n",
       "<p>193 rows × 10 columns</p>\n",
       "</div>"
      ],
      "text/plain": [
       "     refractive index  sodium  magnesium  aluminium  silicon  potassium  \\\n",
       "0             1.51761   13.89       3.60       1.36    72.73       0.48   \n",
       "1             1.51618   13.53       3.55       1.54    72.99       0.39   \n",
       "2             1.51766   13.21       3.69       1.29    72.61       0.57   \n",
       "3             1.51742   13.27       3.62       1.24    73.08       0.55   \n",
       "4             1.51596   12.79       3.61       1.62    72.97       0.64   \n",
       "..                ...     ...        ...        ...      ...        ...   \n",
       "207           1.51640   14.37       0.00       2.74    72.85       0.00   \n",
       "208           1.51623   14.14       0.00       2.88    72.61       0.08   \n",
       "209           1.51685   14.92       0.00       1.99    73.06       0.00   \n",
       "210           1.52065   14.36       0.00       2.02    73.42       0.00   \n",
       "211           1.51651   14.38       0.00       1.94    73.61       0.00   \n",
       "\n",
       "     calcium  barium  iron  class attribute  \n",
       "0       7.83    0.00  0.00                1  \n",
       "1       7.78    0.00  0.00                1  \n",
       "2       8.22    0.00  0.00                1  \n",
       "3       8.07    0.00  0.00                1  \n",
       "4       8.07    0.00  0.26                1  \n",
       "..       ...     ...   ...              ...  \n",
       "207     9.45    0.54  0.00                7  \n",
       "208     9.18    1.06  0.00                7  \n",
       "209     8.40    1.59  0.00                7  \n",
       "210     8.44    1.64  0.00                7  \n",
       "211     8.48    1.57  0.00                7  \n",
       "\n",
       "[193 rows x 10 columns]"
      ]
     },
     "execution_count": 20,
     "metadata": {},
     "output_type": "execute_result"
    }
   ],
   "source": [
    "df2"
   ]
  },
  {
   "cell_type": "code",
   "execution_count": null,
   "id": "87da3a65",
   "metadata": {},
   "outputs": [],
   "source": []
  },
  {
   "cell_type": "code",
   "execution_count": null,
   "id": "9f31d8b0",
   "metadata": {},
   "outputs": [],
   "source": []
  },
  {
   "cell_type": "code",
   "execution_count": 66,
   "id": "b0ac3333",
   "metadata": {},
   "outputs": [
    {
     "data": {
      "text/plain": [
       "refractive index    0.971729\n",
       "sodium              0.375857\n",
       "magnesium          -1.533664\n",
       "aluminium           0.649917\n",
       "silicon            -0.436288\n",
       "potassium           0.297900\n",
       "calcium             1.074092\n",
       "barium              3.178256\n",
       "iron                1.478611\n",
       "class attribute     1.277279\n",
       "dtype: float64"
      ]
     },
     "execution_count": 66,
     "metadata": {},
     "output_type": "execute_result"
    }
   ],
   "source": [
    "df2.skew()"
   ]
  },
  {
   "cell_type": "code",
   "execution_count": 68,
   "id": "f002ec6e",
   "metadata": {},
   "outputs": [
    {
     "data": {
      "text/plain": [
       "<seaborn.axisgrid.FacetGrid at 0x233d324e250>"
      ]
     },
     "execution_count": 68,
     "metadata": {},
     "output_type": "execute_result"
    },
    {
     "data": {
      "image/png": "[encoded data removed]",
      "text/plain": [
       "<Figure size 500x500 with 1 Axes>"
      ]
     },
     "metadata": {},
     "output_type": "display_data"
    }
   ],
   "source": [
    "sns.displot(x='refractive index',data=df2)"
   ]
  },
  {
   "cell_type": "code",
   "execution_count": 67,
   "id": "ff414715",
   "metadata": {},
   "outputs": [
    {
     "data": {
      "text/plain": [
       "<seaborn.axisgrid.FacetGrid at 0x233d186a610>"
      ]
     },
     "execution_count": 67,
     "metadata": {},
     "output_type": "execute_result"
    },
    {
     "data": {
      "image/png": "[encoded data removed]",
      "text/plain": [
       "<Figure size 500x500 with 1 Axes>"
      ]
     },
     "metadata": {},
     "output_type": "display_data"
    }
   ],
   "source": [
    "sns.displot(x='magnesium',data=df2)"
   ]
  },
  {
   "cell_type": "code",
   "execution_count": 40,
   "id": "1975a970",
   "metadata": {},
   "outputs": [
    {
     "data": {
      "text/plain": [
       "<Axes: xlabel='potassium', ylabel='Count'>"
      ]
     },
     "execution_count": 40,
     "metadata": {},
     "output_type": "execute_result"
    },
    {
     "data": {
      "image/png": "[encoded data removed]",
      "text/plain": [
       "<Figure size 640x480 with 1 Axes>"
      ]
     },
     "metadata": {},
     "output_type": "display_data"
    }
   ],
   "source": [
    "sns.histplot(x='potassium',data=df1)"
   ]
  },
  {
   "cell_type": "code",
   "execution_count": 69,
   "id": "2fa7daa0",
   "metadata": {},
   "outputs": [
    {
     "data": {
      "text/plain": [
       "<Axes: xlabel='calcium', ylabel='Count'>"
      ]
     },
     "execution_count": 69,
     "metadata": {},
     "output_type": "execute_result"
    },
    {
     "data": {
      "image/png": "[encoded data removed]",
      "text/plain": [
       "<Figure size 640x480 with 1 Axes>"
      ]
     },
     "metadata": {},
     "output_type": "display_data"
    }
   ],
   "source": [
    "sns.histplot(x='calcium',data=df2)"
   ]
  },
  {
   "cell_type": "code",
   "execution_count": 76,
   "id": "39fefe2a",
   "metadata": {},
   "outputs": [],
   "source": [
    "df2['potassium']=np.cbrt(df1['potassium'])"
   ]
  },
  {
   "cell_type": "code",
   "execution_count": 77,
   "id": "64a0c3af",
   "metadata": {},
   "outputs": [],
   "source": [
    "df2['calcium']=np.cbrt(df1['calcium'])"
   ]
  },
  {
   "cell_type": "code",
   "execution_count": 78,
   "id": "bf898d44",
   "metadata": {},
   "outputs": [],
   "source": [
    "df2['barium']=np.cbrt(df1['barium'])"
   ]
  },
  {
   "cell_type": "code",
   "execution_count": 79,
   "id": "f152d59d",
   "metadata": {},
   "outputs": [],
   "source": [
    "df2['iron']=np.cbrt(df1['iron'])"
   ]
  },
  {
   "cell_type": "code",
   "execution_count": 80,
   "id": "d246ed34",
   "metadata": {},
   "outputs": [],
   "source": [
    "df2['refractive index']=np.cbrt(df1['refractive index'])"
   ]
  },
  {
   "cell_type": "code",
   "execution_count": null,
   "id": "3a955683",
   "metadata": {},
   "outputs": [],
   "source": []
  },
  {
   "cell_type": "code",
   "execution_count": 81,
   "id": "20dbbc5b",
   "metadata": {},
   "outputs": [
    {
     "data": {
      "text/plain": [
       "refractive index    0.965416\n",
       "sodium              0.375857\n",
       "magnesium          -1.533664\n",
       "aluminium           0.649917\n",
       "silicon            -0.436288\n",
       "potassium          -2.028233\n",
       "calcium             0.430377\n",
       "barium              1.915227\n",
       "iron                0.764210\n",
       "class attribute     1.277279\n",
       "dtype: float64"
      ]
     },
     "execution_count": 81,
     "metadata": {},
     "output_type": "execute_result"
    }
   ],
   "source": [
    "df2.skew()"
   ]
  },
  {
   "cell_type": "code",
   "execution_count": null,
   "id": "7ce9573c",
   "metadata": {},
   "outputs": [],
   "source": []
  },
  {
   "cell_type": "code",
   "execution_count": 82,
   "id": "10f91d67",
   "metadata": {},
   "outputs": [
    {
     "data": {
      "text/html": [
       "<div>\n",
       "<style scoped>\n",
       "    .dataframe tbody tr th:only-of-type {\n",
       "        vertical-align: middle;\n",
       "    }\n",
       "\n",
       "    .dataframe tbody tr th {\n",
       "        vertical-align: top;\n",
       "    }\n",
       "\n",
       "    .dataframe thead th {\n",
       "        text-align: right;\n",
       "    }\n",
       "</style>\n",
       "<table border=\"1\" class=\"dataframe\">\n",
       "  <thead>\n",
       "    <tr style=\"text-align: right;\">\n",
       "      <th></th>\n",
       "      <th>refractive index</th>\n",
       "      <th>sodium</th>\n",
       "      <th>magnesium</th>\n",
       "      <th>aluminium</th>\n",
       "      <th>silicon</th>\n",
       "      <th>potassium</th>\n",
       "      <th>calcium</th>\n",
       "      <th>barium</th>\n",
       "      <th>iron</th>\n",
       "      <th>class attribute</th>\n",
       "    </tr>\n",
       "  </thead>\n",
       "  <tbody>\n",
       "    <tr>\n",
       "      <th>refractive index</th>\n",
       "      <td>1.000000</td>\n",
       "      <td>0.048580</td>\n",
       "      <td>0.040282</td>\n",
       "      <td>-0.520327</td>\n",
       "      <td>-0.604779</td>\n",
       "      <td>-0.037202</td>\n",
       "      <td>0.692590</td>\n",
       "      <td>-0.220989</td>\n",
       "      <td>0.031467</td>\n",
       "      <td>-0.163140</td>\n",
       "    </tr>\n",
       "    <tr>\n",
       "      <th>sodium</th>\n",
       "      <td>0.048580</td>\n",
       "      <td>1.000000</td>\n",
       "      <td>-0.491934</td>\n",
       "      <td>0.254805</td>\n",
       "      <td>-0.233588</td>\n",
       "      <td>-0.691829</td>\n",
       "      <td>0.016975</td>\n",
       "      <td>0.513911</td>\n",
       "      <td>-0.133004</td>\n",
       "      <td>0.535440</td>\n",
       "    </tr>\n",
       "    <tr>\n",
       "      <th>magnesium</th>\n",
       "      <td>0.040282</td>\n",
       "      <td>-0.491934</td>\n",
       "      <td>1.000000</td>\n",
       "      <td>-0.591948</td>\n",
       "      <td>-0.371123</td>\n",
       "      <td>0.629730</td>\n",
       "      <td>-0.438962</td>\n",
       "      <td>-0.591104</td>\n",
       "      <td>0.085560</td>\n",
       "      <td>-0.809747</td>\n",
       "    </tr>\n",
       "    <tr>\n",
       "      <th>aluminium</th>\n",
       "      <td>-0.520327</td>\n",
       "      <td>0.254805</td>\n",
       "      <td>-0.591948</td>\n",
       "      <td>1.000000</td>\n",
       "      <td>0.331868</td>\n",
       "      <td>-0.251649</td>\n",
       "      <td>-0.225231</td>\n",
       "      <td>0.580133</td>\n",
       "      <td>-0.062669</td>\n",
       "      <td>0.659242</td>\n",
       "    </tr>\n",
       "    <tr>\n",
       "      <th>silicon</th>\n",
       "      <td>-0.604779</td>\n",
       "      <td>-0.233588</td>\n",
       "      <td>-0.371123</td>\n",
       "      <td>0.331868</td>\n",
       "      <td>1.000000</td>\n",
       "      <td>-0.149523</td>\n",
       "      <td>-0.158843</td>\n",
       "      <td>0.181447</td>\n",
       "      <td>-0.008242</td>\n",
       "      <td>0.257640</td>\n",
       "    </tr>\n",
       "    <tr>\n",
       "      <th>potassium</th>\n",
       "      <td>-0.037202</td>\n",
       "      <td>-0.691829</td>\n",
       "      <td>0.629730</td>\n",
       "      <td>-0.251649</td>\n",
       "      <td>-0.149523</td>\n",
       "      <td>1.000000</td>\n",
       "      <td>-0.227908</td>\n",
       "      <td>-0.476857</td>\n",
       "      <td>0.156227</td>\n",
       "      <td>-0.665927</td>\n",
       "    </tr>\n",
       "    <tr>\n",
       "      <th>calcium</th>\n",
       "      <td>0.692590</td>\n",
       "      <td>0.016975</td>\n",
       "      <td>-0.438962</td>\n",
       "      <td>-0.225231</td>\n",
       "      <td>-0.158843</td>\n",
       "      <td>-0.227908</td>\n",
       "      <td>1.000000</td>\n",
       "      <td>-0.132262</td>\n",
       "      <td>0.025292</td>\n",
       "      <td>0.129354</td>\n",
       "    </tr>\n",
       "    <tr>\n",
       "      <th>barium</th>\n",
       "      <td>-0.220989</td>\n",
       "      <td>0.513911</td>\n",
       "      <td>-0.591104</td>\n",
       "      <td>0.580133</td>\n",
       "      <td>0.181447</td>\n",
       "      <td>-0.476857</td>\n",
       "      <td>-0.132262</td>\n",
       "      <td>1.000000</td>\n",
       "      <td>0.023584</td>\n",
       "      <td>0.656910</td>\n",
       "    </tr>\n",
       "    <tr>\n",
       "      <th>iron</th>\n",
       "      <td>0.031467</td>\n",
       "      <td>-0.133004</td>\n",
       "      <td>0.085560</td>\n",
       "      <td>-0.062669</td>\n",
       "      <td>-0.008242</td>\n",
       "      <td>0.156227</td>\n",
       "      <td>0.025292</td>\n",
       "      <td>0.023584</td>\n",
       "      <td>1.000000</td>\n",
       "      <td>-0.164528</td>\n",
       "    </tr>\n",
       "    <tr>\n",
       "      <th>class attribute</th>\n",
       "      <td>-0.163140</td>\n",
       "      <td>0.535440</td>\n",
       "      <td>-0.809747</td>\n",
       "      <td>0.659242</td>\n",
       "      <td>0.257640</td>\n",
       "      <td>-0.665927</td>\n",
       "      <td>0.129354</td>\n",
       "      <td>0.656910</td>\n",
       "      <td>-0.164528</td>\n",
       "      <td>1.000000</td>\n",
       "    </tr>\n",
       "  </tbody>\n",
       "</table>\n",
       "</div>"
      ],
      "text/plain": [
       "                  refractive index    sodium  magnesium  aluminium   silicon  \\\n",
       "refractive index          1.000000  0.048580   0.040282  -0.520327 -0.604779   \n",
       "sodium                    0.048580  1.000000  -0.491934   0.254805 -0.233588   \n",
       "magnesium                 0.040282 -0.491934   1.000000  -0.591948 -0.371123   \n",
       "aluminium                -0.520327  0.254805  -0.591948   1.000000  0.331868   \n",
       "silicon                  -0.604779 -0.233588  -0.371123   0.331868  1.000000   \n",
       "potassium                -0.037202 -0.691829   0.629730  -0.251649 -0.149523   \n",
       "calcium                   0.692590  0.016975  -0.438962  -0.225231 -0.158843   \n",
       "barium                   -0.220989  0.513911  -0.591104   0.580133  0.181447   \n",
       "iron                      0.031467 -0.133004   0.085560  -0.062669 -0.008242   \n",
       "class attribute          -0.163140  0.535440  -0.809747   0.659242  0.257640   \n",
       "\n",
       "                  potassium   calcium    barium      iron  class attribute  \n",
       "refractive index  -0.037202  0.692590 -0.220989  0.031467        -0.163140  \n",
       "sodium            -0.691829  0.016975  0.513911 -0.133004         0.535440  \n",
       "magnesium          0.629730 -0.438962 -0.591104  0.085560        -0.809747  \n",
       "aluminium         -0.251649 -0.225231  0.580133 -0.062669         0.659242  \n",
       "silicon           -0.149523 -0.158843  0.181447 -0.008242         0.257640  \n",
       "potassium          1.000000 -0.227908 -0.476857  0.156227        -0.665927  \n",
       "calcium           -0.227908  1.000000 -0.132262  0.025292         0.129354  \n",
       "barium            -0.476857 -0.132262  1.000000  0.023584         0.656910  \n",
       "iron               0.156227  0.025292  0.023584  1.000000        -0.164528  \n",
       "class attribute   -0.665927  0.129354  0.656910 -0.164528         1.000000  "
      ]
     },
     "execution_count": 82,
     "metadata": {},
     "output_type": "execute_result"
    }
   ],
   "source": [
    "#checking the corelation between feature and target column\n",
    "cor=df2.corr()\n",
    "cor"
   ]
  },
  {
   "cell_type": "code",
   "execution_count": 83,
   "id": "81acaba3",
   "metadata": {},
   "outputs": [
    {
     "data": {
      "image/png": "[encoded data removed]",
      "text/plain": [
       "<Figure size 2000x1500 with 2 Axes>"
      ]
     },
     "metadata": {},
     "output_type": "display_data"
    }
   ],
   "source": [
    "#visualising the corelation between the ploting the roadmap\n",
    "plt.figure(figsize=(20,15))\n",
    "sns.heatmap(df2.corr(),annot=True)\n",
    "plt.show()"
   ]
  },
  {
   "cell_type": "code",
   "execution_count": 21,
   "id": "53b02006",
   "metadata": {},
   "outputs": [],
   "source": [
    "x=df2.iloc[:,0:-1]"
   ]
  },
  {
   "cell_type": "code",
   "execution_count": 85,
   "id": "278d18d1",
   "metadata": {},
   "outputs": [
    {
     "data": {
      "text/html": [
       "<div>\n",
       "<style scoped>\n",
       "    .dataframe tbody tr th:only-of-type {\n",
       "        vertical-align: middle;\n",
       "    }\n",
       "\n",
       "    .dataframe tbody tr th {\n",
       "        vertical-align: top;\n",
       "    }\n",
       "\n",
       "    .dataframe thead th {\n",
       "        text-align: right;\n",
       "    }\n",
       "</style>\n",
       "<table border=\"1\" class=\"dataframe\">\n",
       "  <thead>\n",
       "    <tr style=\"text-align: right;\">\n",
       "      <th></th>\n",
       "      <th>refractive index</th>\n",
       "      <th>sodium</th>\n",
       "      <th>magnesium</th>\n",
       "      <th>aluminium</th>\n",
       "      <th>silicon</th>\n",
       "      <th>potassium</th>\n",
       "      <th>calcium</th>\n",
       "      <th>barium</th>\n",
       "      <th>iron</th>\n",
       "    </tr>\n",
       "  </thead>\n",
       "  <tbody>\n",
       "    <tr>\n",
       "      <th>0</th>\n",
       "      <td>1.047439</td>\n",
       "      <td>13.89</td>\n",
       "      <td>3.60</td>\n",
       "      <td>1.36</td>\n",
       "      <td>72.73</td>\n",
       "      <td>0.921685</td>\n",
       "      <td>1.256918</td>\n",
       "      <td>0.000000</td>\n",
       "      <td>0.000000</td>\n",
       "    </tr>\n",
       "    <tr>\n",
       "      <th>1</th>\n",
       "      <td>1.047330</td>\n",
       "      <td>13.53</td>\n",
       "      <td>3.55</td>\n",
       "      <td>1.54</td>\n",
       "      <td>72.99</td>\n",
       "      <td>0.900664</td>\n",
       "      <td>1.256023</td>\n",
       "      <td>0.000000</td>\n",
       "      <td>0.000000</td>\n",
       "    </tr>\n",
       "    <tr>\n",
       "      <th>2</th>\n",
       "      <td>1.047443</td>\n",
       "      <td>13.21</td>\n",
       "      <td>3.69</td>\n",
       "      <td>1.29</td>\n",
       "      <td>72.61</td>\n",
       "      <td>0.939453</td>\n",
       "      <td>1.263725</td>\n",
       "      <td>0.000000</td>\n",
       "      <td>0.000000</td>\n",
       "    </tr>\n",
       "    <tr>\n",
       "      <th>3</th>\n",
       "      <td>1.047425</td>\n",
       "      <td>13.27</td>\n",
       "      <td>3.62</td>\n",
       "      <td>1.24</td>\n",
       "      <td>73.08</td>\n",
       "      <td>0.935732</td>\n",
       "      <td>1.261141</td>\n",
       "      <td>0.000000</td>\n",
       "      <td>0.000000</td>\n",
       "    </tr>\n",
       "    <tr>\n",
       "      <th>4</th>\n",
       "      <td>1.047313</td>\n",
       "      <td>12.79</td>\n",
       "      <td>3.61</td>\n",
       "      <td>1.62</td>\n",
       "      <td>72.97</td>\n",
       "      <td>0.951622</td>\n",
       "      <td>1.261141</td>\n",
       "      <td>0.000000</td>\n",
       "      <td>0.860988</td>\n",
       "    </tr>\n",
       "    <tr>\n",
       "      <th>...</th>\n",
       "      <td>...</td>\n",
       "      <td>...</td>\n",
       "      <td>...</td>\n",
       "      <td>...</td>\n",
       "      <td>...</td>\n",
       "      <td>...</td>\n",
       "      <td>...</td>\n",
       "      <td>...</td>\n",
       "      <td>...</td>\n",
       "    </tr>\n",
       "    <tr>\n",
       "      <th>207</th>\n",
       "      <td>1.047347</td>\n",
       "      <td>14.37</td>\n",
       "      <td>0.00</td>\n",
       "      <td>2.74</td>\n",
       "      <td>72.85</td>\n",
       "      <td>0.000000</td>\n",
       "      <td>1.283457</td>\n",
       "      <td>0.933826</td>\n",
       "      <td>0.000000</td>\n",
       "    </tr>\n",
       "    <tr>\n",
       "      <th>208</th>\n",
       "      <td>1.047334</td>\n",
       "      <td>14.14</td>\n",
       "      <td>0.00</td>\n",
       "      <td>2.88</td>\n",
       "      <td>72.61</td>\n",
       "      <td>0.755303</td>\n",
       "      <td>1.279330</td>\n",
       "      <td>1.006495</td>\n",
       "      <td>0.000000</td>\n",
       "    </tr>\n",
       "    <tr>\n",
       "      <th>209</th>\n",
       "      <td>1.047381</td>\n",
       "      <td>14.92</td>\n",
       "      <td>0.00</td>\n",
       "      <td>1.99</td>\n",
       "      <td>73.06</td>\n",
       "      <td>0.000000</td>\n",
       "      <td>1.266770</td>\n",
       "      <td>1.052877</td>\n",
       "      <td>0.000000</td>\n",
       "    </tr>\n",
       "    <tr>\n",
       "      <th>210</th>\n",
       "      <td>1.047672</td>\n",
       "      <td>14.36</td>\n",
       "      <td>0.00</td>\n",
       "      <td>2.02</td>\n",
       "      <td>73.42</td>\n",
       "      <td>0.000000</td>\n",
       "      <td>1.267439</td>\n",
       "      <td>1.056505</td>\n",
       "      <td>0.000000</td>\n",
       "    </tr>\n",
       "    <tr>\n",
       "      <th>211</th>\n",
       "      <td>1.047355</td>\n",
       "      <td>14.38</td>\n",
       "      <td>0.00</td>\n",
       "      <td>1.94</td>\n",
       "      <td>73.61</td>\n",
       "      <td>0.000000</td>\n",
       "      <td>1.268105</td>\n",
       "      <td>1.051397</td>\n",
       "      <td>0.000000</td>\n",
       "    </tr>\n",
       "  </tbody>\n",
       "</table>\n",
       "<p>193 rows × 9 columns</p>\n",
       "</div>"
      ],
      "text/plain": [
       "     refractive index  sodium  magnesium  aluminium  silicon  potassium  \\\n",
       "0            1.047439   13.89       3.60       1.36    72.73   0.921685   \n",
       "1            1.047330   13.53       3.55       1.54    72.99   0.900664   \n",
       "2            1.047443   13.21       3.69       1.29    72.61   0.939453   \n",
       "3            1.047425   13.27       3.62       1.24    73.08   0.935732   \n",
       "4            1.047313   12.79       3.61       1.62    72.97   0.951622   \n",
       "..                ...     ...        ...        ...      ...        ...   \n",
       "207          1.047347   14.37       0.00       2.74    72.85   0.000000   \n",
       "208          1.047334   14.14       0.00       2.88    72.61   0.755303   \n",
       "209          1.047381   14.92       0.00       1.99    73.06   0.000000   \n",
       "210          1.047672   14.36       0.00       2.02    73.42   0.000000   \n",
       "211          1.047355   14.38       0.00       1.94    73.61   0.000000   \n",
       "\n",
       "      calcium    barium      iron  \n",
       "0    1.256918  0.000000  0.000000  \n",
       "1    1.256023  0.000000  0.000000  \n",
       "2    1.263725  0.000000  0.000000  \n",
       "3    1.261141  0.000000  0.000000  \n",
       "4    1.261141  0.000000  0.860988  \n",
       "..        ...       ...       ...  \n",
       "207  1.283457  0.933826  0.000000  \n",
       "208  1.279330  1.006495  0.000000  \n",
       "209  1.266770  1.052877  0.000000  \n",
       "210  1.267439  1.056505  0.000000  \n",
       "211  1.268105  1.051397  0.000000  \n",
       "\n",
       "[193 rows x 9 columns]"
      ]
     },
     "execution_count": 85,
     "metadata": {},
     "output_type": "execute_result"
    }
   ],
   "source": [
    "x"
   ]
  },
  {
   "cell_type": "code",
   "execution_count": 22,
   "id": "1a1be8f1",
   "metadata": {},
   "outputs": [],
   "source": [
    "y=df2.iloc[:,-1]"
   ]
  },
  {
   "cell_type": "code",
   "execution_count": 23,
   "id": "7ef4165b",
   "metadata": {},
   "outputs": [
    {
     "data": {
      "text/plain": [
       "0      1\n",
       "1      1\n",
       "2      1\n",
       "3      1\n",
       "4      1\n",
       "      ..\n",
       "207    7\n",
       "208    7\n",
       "209    7\n",
       "210    7\n",
       "211    7\n",
       "Name: class attribute, Length: 193, dtype: int64"
      ]
     },
     "execution_count": 23,
     "metadata": {},
     "output_type": "execute_result"
    }
   ],
   "source": [
    "y"
   ]
  },
  {
   "cell_type": "code",
   "execution_count": 24,
   "id": "d93b21b7",
   "metadata": {},
   "outputs": [],
   "source": [
    "from sklearn.preprocessing import StandardScaler"
   ]
  },
  {
   "cell_type": "code",
   "execution_count": 25,
   "id": "7acfea33",
   "metadata": {},
   "outputs": [],
   "source": [
    "scaler=StandardScaler()"
   ]
  },
  {
   "cell_type": "code",
   "execution_count": 26,
   "id": "73809cde",
   "metadata": {},
   "outputs": [
    {
     "data": {
      "text/html": [
       "<div>\n",
       "<style scoped>\n",
       "    .dataframe tbody tr th:only-of-type {\n",
       "        vertical-align: middle;\n",
       "    }\n",
       "\n",
       "    .dataframe tbody tr th {\n",
       "        vertical-align: top;\n",
       "    }\n",
       "\n",
       "    .dataframe thead th {\n",
       "        text-align: right;\n",
       "    }\n",
       "</style>\n",
       "<table border=\"1\" class=\"dataframe\">\n",
       "  <thead>\n",
       "    <tr style=\"text-align: right;\">\n",
       "      <th></th>\n",
       "      <th>refractive index</th>\n",
       "      <th>sodium</th>\n",
       "      <th>magnesium</th>\n",
       "      <th>aluminium</th>\n",
       "      <th>silicon</th>\n",
       "      <th>potassium</th>\n",
       "      <th>calcium</th>\n",
       "      <th>barium</th>\n",
       "      <th>iron</th>\n",
       "    </tr>\n",
       "  </thead>\n",
       "  <tbody>\n",
       "    <tr>\n",
       "      <th>0</th>\n",
       "      <td>-0.191475</td>\n",
       "      <td>0.704498</td>\n",
       "      <td>0.558738</td>\n",
       "      <td>-0.145324</td>\n",
       "      <td>0.007760</td>\n",
       "      <td>0.165576</td>\n",
       "      <td>-1.005952</td>\n",
       "      <td>-0.347296</td>\n",
       "      <td>-0.605187</td>\n",
       "    </tr>\n",
       "    <tr>\n",
       "      <th>1</th>\n",
       "      <td>-0.819092</td>\n",
       "      <td>0.169658</td>\n",
       "      <td>0.520382</td>\n",
       "      <td>0.260836</td>\n",
       "      <td>0.455342</td>\n",
       "      <td>-0.154697</td>\n",
       "      <td>-1.056501</td>\n",
       "      <td>-0.347296</td>\n",
       "      <td>-0.605187</td>\n",
       "    </tr>\n",
       "    <tr>\n",
       "      <th>2</th>\n",
       "      <td>-0.169531</td>\n",
       "      <td>-0.305754</td>\n",
       "      <td>0.627781</td>\n",
       "      <td>-0.303276</td>\n",
       "      <td>-0.198816</td>\n",
       "      <td>0.485849</td>\n",
       "      <td>-0.611669</td>\n",
       "      <td>-0.347296</td>\n",
       "      <td>-0.605187</td>\n",
       "    </tr>\n",
       "    <tr>\n",
       "      <th>3</th>\n",
       "      <td>-0.274865</td>\n",
       "      <td>-0.216615</td>\n",
       "      <td>0.574081</td>\n",
       "      <td>-0.416098</td>\n",
       "      <td>0.610275</td>\n",
       "      <td>0.414677</td>\n",
       "      <td>-0.763316</td>\n",
       "      <td>-0.347296</td>\n",
       "      <td>-0.605187</td>\n",
       "    </tr>\n",
       "    <tr>\n",
       "      <th>4</th>\n",
       "      <td>-0.915648</td>\n",
       "      <td>-0.929734</td>\n",
       "      <td>0.566410</td>\n",
       "      <td>0.441351</td>\n",
       "      <td>0.420913</td>\n",
       "      <td>0.734950</td>\n",
       "      <td>-0.763316</td>\n",
       "      <td>-0.347296</td>\n",
       "      <td>2.428607</td>\n",
       "    </tr>\n",
       "    <tr>\n",
       "      <th>...</th>\n",
       "      <td>...</td>\n",
       "      <td>...</td>\n",
       "      <td>...</td>\n",
       "      <td>...</td>\n",
       "      <td>...</td>\n",
       "      <td>...</td>\n",
       "      <td>...</td>\n",
       "      <td>...</td>\n",
       "      <td>...</td>\n",
       "    </tr>\n",
       "    <tr>\n",
       "      <th>188</th>\n",
       "      <td>-0.722535</td>\n",
       "      <td>1.417617</td>\n",
       "      <td>-2.202957</td>\n",
       "      <td>2.968571</td>\n",
       "      <td>0.214336</td>\n",
       "      <td>-1.542547</td>\n",
       "      <td>0.631836</td>\n",
       "      <td>1.165248</td>\n",
       "      <td>-0.605187</td>\n",
       "    </tr>\n",
       "    <tr>\n",
       "      <th>189</th>\n",
       "      <td>-0.797147</td>\n",
       "      <td>1.075914</td>\n",
       "      <td>-2.202957</td>\n",
       "      <td>3.284473</td>\n",
       "      <td>-0.198816</td>\n",
       "      <td>-1.257860</td>\n",
       "      <td>0.358872</td>\n",
       "      <td>2.621773</td>\n",
       "      <td>-0.605187</td>\n",
       "    </tr>\n",
       "    <tr>\n",
       "      <th>190</th>\n",
       "      <td>-0.525034</td>\n",
       "      <td>2.234732</td>\n",
       "      <td>-2.202957</td>\n",
       "      <td>1.276236</td>\n",
       "      <td>0.575845</td>\n",
       "      <td>-1.542547</td>\n",
       "      <td>-0.429693</td>\n",
       "      <td>4.106307</td>\n",
       "      <td>-0.605187</td>\n",
       "    </tr>\n",
       "    <tr>\n",
       "      <th>191</th>\n",
       "      <td>1.142758</td>\n",
       "      <td>1.402760</td>\n",
       "      <td>-2.202957</td>\n",
       "      <td>1.343930</td>\n",
       "      <td>1.195574</td>\n",
       "      <td>-1.542547</td>\n",
       "      <td>-0.389254</td>\n",
       "      <td>4.246358</td>\n",
       "      <td>-0.605187</td>\n",
       "    </tr>\n",
       "    <tr>\n",
       "      <th>192</th>\n",
       "      <td>-0.674257</td>\n",
       "      <td>1.432473</td>\n",
       "      <td>-2.202957</td>\n",
       "      <td>1.163414</td>\n",
       "      <td>1.522654</td>\n",
       "      <td>-1.542547</td>\n",
       "      <td>-0.348814</td>\n",
       "      <td>4.050287</td>\n",
       "      <td>-0.605187</td>\n",
       "    </tr>\n",
       "  </tbody>\n",
       "</table>\n",
       "<p>193 rows × 9 columns</p>\n",
       "</div>"
      ],
      "text/plain": [
       "     refractive index    sodium  magnesium  aluminium   silicon  potassium  \\\n",
       "0           -0.191475  0.704498   0.558738  -0.145324  0.007760   0.165576   \n",
       "1           -0.819092  0.169658   0.520382   0.260836  0.455342  -0.154697   \n",
       "2           -0.169531 -0.305754   0.627781  -0.303276 -0.198816   0.485849   \n",
       "3           -0.274865 -0.216615   0.574081  -0.416098  0.610275   0.414677   \n",
       "4           -0.915648 -0.929734   0.566410   0.441351  0.420913   0.734950   \n",
       "..                ...       ...        ...        ...       ...        ...   \n",
       "188         -0.722535  1.417617  -2.202957   2.968571  0.214336  -1.542547   \n",
       "189         -0.797147  1.075914  -2.202957   3.284473 -0.198816  -1.257860   \n",
       "190         -0.525034  2.234732  -2.202957   1.276236  0.575845  -1.542547   \n",
       "191          1.142758  1.402760  -2.202957   1.343930  1.195574  -1.542547   \n",
       "192         -0.674257  1.432473  -2.202957   1.163414  1.522654  -1.542547   \n",
       "\n",
       "      calcium    barium      iron  \n",
       "0   -1.005952 -0.347296 -0.605187  \n",
       "1   -1.056501 -0.347296 -0.605187  \n",
       "2   -0.611669 -0.347296 -0.605187  \n",
       "3   -0.763316 -0.347296 -0.605187  \n",
       "4   -0.763316 -0.347296  2.428607  \n",
       "..        ...       ...       ...  \n",
       "188  0.631836  1.165248 -0.605187  \n",
       "189  0.358872  2.621773 -0.605187  \n",
       "190 -0.429693  4.106307 -0.605187  \n",
       "191 -0.389254  4.246358 -0.605187  \n",
       "192 -0.348814  4.050287 -0.605187  \n",
       "\n",
       "[193 rows x 9 columns]"
      ]
     },
     "execution_count": 26,
     "metadata": {},
     "output_type": "execute_result"
    }
   ],
   "source": [
    "x=pd.DataFrame(scaler.fit_transform(x),columns=x.columns)\n",
    "x"
   ]
  },
  {
   "cell_type": "code",
   "execution_count": 35,
   "id": "d75a36df",
   "metadata": {},
   "outputs": [],
   "source": [
    "#oversampling the data"
   ]
  },
  {
   "cell_type": "code",
   "execution_count": 27,
   "id": "980a8d8f",
   "metadata": {},
   "outputs": [],
   "source": [
    "from imblearn.over_sampling import SMOTE"
   ]
  },
  {
   "cell_type": "code",
   "execution_count": 28,
   "id": "3e424d7e",
   "metadata": {},
   "outputs": [],
   "source": [
    "smt=SMOTE()\n",
    "train_x,train_y=smt.fit_resample(x,y)"
   ]
  },
  {
   "cell_type": "code",
   "execution_count": 29,
   "id": "30851396",
   "metadata": {},
   "outputs": [
    {
     "data": {
      "text/plain": [
       "1    69\n",
       "2    69\n",
       "3    69\n",
       "5    69\n",
       "6    69\n",
       "7    69\n",
       "Name: class attribute, dtype: int64"
      ]
     },
     "execution_count": 29,
     "metadata": {},
     "output_type": "execute_result"
    }
   ],
   "source": [
    "train_y.value_counts()"
   ]
  },
  {
   "cell_type": "code",
   "execution_count": 94,
   "id": "5a4e1aad",
   "metadata": {},
   "outputs": [
    {
     "data": {
      "text/plain": [
       "<Axes: xlabel='class attribute', ylabel='count'>"
      ]
     },
     "execution_count": 94,
     "metadata": {},
     "output_type": "execute_result"
    },
    {
     "data": {
      "image/png": "[encoded data removed]",
      "text/plain": [
       "<Figure size 640x480 with 1 Axes>"
      ]
     },
     "metadata": {},
     "output_type": "display_data"
    }
   ],
   "source": [
    "sns.countplot(x=train_y)"
   ]
  },
  {
   "cell_type": "code",
   "execution_count": 30,
   "id": "d64c61f0",
   "metadata": {},
   "outputs": [],
   "source": [
    "from sklearn.linear_model import LogisticRegression\n",
    "from sklearn.metrics import accuracy_score,confusion_matrix,classification_report\n",
    "from sklearn.model_selection import train_test_split\n",
    "from sklearn.svm import SVC\n",
    "from sklearn.neighbors import KNeighborsClassifier\n",
    "from  sklearn.tree import DecisionTreeClassifier\n",
    "from sklearn.model_selection import cross_val_score\n",
    "from sklearn.ensemble import RandomForestClassifier\n",
    "from sklearn.naive_bayes import MultinomialNB\n",
    "from sklearn.ensemble import AdaBoostClassifier"
   ]
  },
  {
   "cell_type": "code",
   "execution_count": 31,
   "id": "bbe0516d",
   "metadata": {},
   "outputs": [],
   "source": [
    "train_x,test_x,train_y,test_y=train_test_split(train_x,train_y,test_size=.30,random_state=43)"
   ]
  },
  {
   "cell_type": "code",
   "execution_count": 38,
   "id": "fdd5503a",
   "metadata": {},
   "outputs": [
    {
     "name": "stdout",
     "output_type": "stream",
     "text": [
      "0.84\n",
      "[[14  3  6  0  0  0]\n",
      " [ 4 10  3  0  1  0]\n",
      " [ 0  2 21  0  0  0]\n",
      " [ 0  0  0 15  0  0]\n",
      " [ 0  0  0  0 24  0]\n",
      " [ 0  1  0  0  0 21]]\n",
      "              precision    recall  f1-score   support\n",
      "\n",
      "           1       0.78      0.61      0.68        23\n",
      "           2       0.62      0.56      0.59        18\n",
      "           3       0.70      0.91      0.79        23\n",
      "           5       1.00      1.00      1.00        15\n",
      "           6       0.96      1.00      0.98        24\n",
      "           7       1.00      0.95      0.98        22\n",
      "\n",
      "    accuracy                           0.84       125\n",
      "   macro avg       0.84      0.84      0.84       125\n",
      "weighted avg       0.84      0.84      0.84       125\n",
      "\n"
     ]
    }
   ],
   "source": [
    "lg=LogisticRegression()\n",
    "lg.fit(train_x,train_y)\n",
    "predlg=lg.predict(test_x)\n",
    "print(accuracy_score(test_y,predlg))\n",
    "print(confusion_matrix(test_y,predlg))\n",
    "print(classification_report(test_y,predlg))\n"
   ]
  },
  {
   "cell_type": "code",
   "execution_count": 33,
   "id": "d73f8a01",
   "metadata": {},
   "outputs": [
    {
     "name": "stdout",
     "output_type": "stream",
     "text": [
      "0.824\n",
      "[[14  2  7  0  0  0]\n",
      " [ 4  8  5  0  1  0]\n",
      " [ 0  1 22  0  0  0]\n",
      " [ 0  0  0 15  0  0]\n",
      " [ 0  1  0  0 23  0]\n",
      " [ 0  1  0  0  0 21]]\n",
      "              precision    recall  f1-score   support\n",
      "\n",
      "           1       0.78      0.61      0.68        23\n",
      "           2       0.62      0.44      0.52        18\n",
      "           3       0.65      0.96      0.77        23\n",
      "           5       1.00      1.00      1.00        15\n",
      "           6       0.96      0.96      0.96        24\n",
      "           7       1.00      0.95      0.98        22\n",
      "\n",
      "    accuracy                           0.82       125\n",
      "   macro avg       0.83      0.82      0.82       125\n",
      "weighted avg       0.83      0.82      0.82       125\n",
      "\n"
     ]
    }
   ],
   "source": [
    "knn=KNeighborsClassifier()\n",
    "knn.fit(train_x,train_y)\n",
    "predknn=knn.predict(test_x)\n",
    "print(accuracy_score(test_y,predknn))\n",
    "print(confusion_matrix(test_y,predknn))\n",
    "print(classification_report(test_y,predknn))"
   ]
  },
  {
   "cell_type": "code",
   "execution_count": 34,
   "id": "ac1b7ab2",
   "metadata": {},
   "outputs": [
    {
     "name": "stdout",
     "output_type": "stream",
     "text": [
      "0.872\n",
      "[[16  1  6  0  0  0]\n",
      " [ 3 10  3  1  1  0]\n",
      " [ 0  0 23  0  0  0]\n",
      " [ 0  0  0 15  0  0]\n",
      " [ 0  0  0  0 24  0]\n",
      " [ 0  1  0  0  0 21]]\n",
      "              precision    recall  f1-score   support\n",
      "\n",
      "           1       0.84      0.70      0.76        23\n",
      "           2       0.83      0.56      0.67        18\n",
      "           3       0.72      1.00      0.84        23\n",
      "           5       0.94      1.00      0.97        15\n",
      "           6       0.96      1.00      0.98        24\n",
      "           7       1.00      0.95      0.98        22\n",
      "\n",
      "    accuracy                           0.87       125\n",
      "   macro avg       0.88      0.87      0.86       125\n",
      "weighted avg       0.88      0.87      0.87       125\n",
      "\n"
     ]
    }
   ],
   "source": [
    "rf= RandomForestClassifier(n_estimators=100,random_state=42)\n",
    "rf.fit(train_x,train_y)\n",
    "predrf=rf.predict(test_x)\n",
    "print(accuracy_score(test_y,predrf))\n",
    "print(confusion_matrix(test_y,predrf))\n",
    "print(classification_report(test_y,predrf))"
   ]
  },
  {
   "cell_type": "code",
   "execution_count": 100,
   "id": "ab240886",
   "metadata": {},
   "outputs": [
    {
     "name": "stdout",
     "output_type": "stream",
     "text": [
      "0.856\n",
      "[[16  1  6  0  0  0]\n",
      " [ 5  7  3  1  1  1]\n",
      " [ 0  0 23  0  0  0]\n",
      " [ 0  0  0 15  0  0]\n",
      " [ 0  0  0  0 24  0]\n",
      " [ 0  0  0  0  0 22]]\n",
      "              precision    recall  f1-score   support\n",
      "\n",
      "           1       0.76      0.70      0.73        23\n",
      "           2       0.88      0.39      0.54        18\n",
      "           3       0.72      1.00      0.84        23\n",
      "           5       0.94      1.00      0.97        15\n",
      "           6       0.96      1.00      0.98        24\n",
      "           7       0.96      1.00      0.98        22\n",
      "\n",
      "    accuracy                           0.86       125\n",
      "   macro avg       0.87      0.85      0.84       125\n",
      "weighted avg       0.86      0.86      0.84       125\n",
      "\n"
     ]
    }
   ],
   "source": [
    "dtc=DecisionTreeClassifier()\n",
    "dtc.fit(train_x,train_y)\n",
    "preddtc=dtc.predict(test_x)\n",
    "print(accuracy_score(test_y,preddtc))\n",
    "print(confusion_matrix(test_y,preddtc))\n",
    "print(classification_report(test_y,preddtc))"
   ]
  },
  {
   "cell_type": "code",
   "execution_count": 35,
   "id": "6c818be3",
   "metadata": {},
   "outputs": [
    {
     "name": "stdout",
     "output_type": "stream",
     "text": [
      "0.872\n",
      "[[16  1  6  0  0  0]\n",
      " [ 3 10  3  1  1  0]\n",
      " [ 0  0 23  0  0  0]\n",
      " [ 0  0  0 15  0  0]\n",
      " [ 0  0  0  0 24  0]\n",
      " [ 0  1  0  0  0 21]]\n",
      "              precision    recall  f1-score   support\n",
      "\n",
      "           1       0.84      0.70      0.76        23\n",
      "           2       0.83      0.56      0.67        18\n",
      "           3       0.72      1.00      0.84        23\n",
      "           5       0.94      1.00      0.97        15\n",
      "           6       0.96      1.00      0.98        24\n",
      "           7       1.00      0.95      0.98        22\n",
      "\n",
      "    accuracy                           0.87       125\n",
      "   macro avg       0.88      0.87      0.86       125\n",
      "weighted avg       0.88      0.87      0.87       125\n",
      "\n"
     ]
    }
   ],
   "source": [
    "from sklearn.ensemble import GradientBoostingClassifier\n",
    "gb=GradientBoostingClassifier()\n",
    "gb.fit(train_x,train_y)\n",
    "predgb=rf.predict(test_x)\n",
    "print(accuracy_score(test_y,predgb))\n",
    "print(confusion_matrix(test_y,predgb))\n",
    "print(classification_report(test_y,predgb))"
   ]
  },
  {
   "cell_type": "code",
   "execution_count": 37,
   "id": "19ee6872",
   "metadata": {},
   "outputs": [
    {
     "name": "stdout",
     "output_type": "stream",
     "text": [
      "0.848\n",
      "[[14  4  5  0  0  0]\n",
      " [ 4 10  3  0  1  0]\n",
      " [ 0  1 22  0  0  0]\n",
      " [ 0  0  0 15  0  0]\n",
      " [ 0  0  0  0 24  0]\n",
      " [ 0  1  0  0  0 21]]\n",
      "              precision    recall  f1-score   support\n",
      "\n",
      "           1       0.78      0.61      0.68        23\n",
      "           2       0.62      0.56      0.59        18\n",
      "           3       0.73      0.96      0.83        23\n",
      "           5       1.00      1.00      1.00        15\n",
      "           6       0.96      1.00      0.98        24\n",
      "           7       1.00      0.95      0.98        22\n",
      "\n",
      "    accuracy                           0.85       125\n",
      "   macro avg       0.85      0.85      0.84       125\n",
      "weighted avg       0.85      0.85      0.84       125\n",
      "\n"
     ]
    }
   ],
   "source": [
    "svc=SVC()\n",
    "svc.fit(train_x,train_y)\n",
    "predsvc=svc.predict(test_x)\n",
    "print(accuracy_score(test_y,predsvc))\n",
    "print(confusion_matrix(test_y,predsvc))\n",
    "print(classification_report(test_y,predsvc))"
   ]
  },
  {
   "cell_type": "code",
   "execution_count": 49,
   "id": "c7fc7a05",
   "metadata": {},
   "outputs": [
    {
     "data": {
      "text/plain": [
       "['rffile.obj']"
      ]
     },
     "execution_count": 49,
     "metadata": {},
     "output_type": "execute_result"
    }
   ],
   "source": [
    "#saving the model\n",
    "import joblib\n",
    "joblib.dump(rf,'rffile.obj')\n",
    "\n"
   ]
  },
  {
   "cell_type": "code",
   "execution_count": 51,
   "id": "61ebe8ad",
   "metadata": {},
   "outputs": [
    {
     "data": {
      "text/plain": [
       "array([6, 6, 5, 5, 7, 5, 5, 2, 5, 7, 5, 7, 3, 7, 7, 3, 7, 3, 3, 1, 3, 6,\n",
       "       6, 1, 7, 6, 1, 6, 6, 2, 7, 2, 6, 7, 3, 3, 3, 7, 7, 6, 5, 1, 3, 3,\n",
       "       5, 3, 5, 6, 3, 1, 3, 3, 5, 6, 1, 3, 5, 3, 7, 1, 7, 3, 6, 5, 6, 6,\n",
       "       6, 5, 1, 1, 6, 5, 1, 3, 1, 2, 1, 7, 1, 2, 3, 7, 5, 1, 6, 1, 5, 2,\n",
       "       3, 3, 1, 7, 6, 6, 3, 7, 3, 7, 3, 1, 3, 7, 6, 3, 3, 3, 3, 6, 3, 6,\n",
       "       6, 2, 2, 7, 2, 7, 2, 3, 1, 2, 3, 6, 2, 6, 1], dtype=int64)"
      ]
     },
     "execution_count": 51,
     "metadata": {},
     "output_type": "execute_result"
    }
   ],
   "source": [
    "#load the model from file\n",
    "myrfmodel=joblib.load(\"rffile.obj\")\n",
    "myrfmodel.predict(test_x)"
   ]
  },
  {
   "cell_type": "code",
   "execution_count": null,
   "id": "10056830",
   "metadata": {},
   "outputs": [],
   "source": []
  },
  {
   "cell_type": "code",
   "execution_count": null,
   "id": "05e8b834",
   "metadata": {},
   "outputs": [],
   "source": []
  }
 ],
 "metadata": {
  "kernelspec": {
   "display_name": "Python 3 (ipykernel)",
   "language": "python",
   "name": "python3"
  },
  "language_info": {
   "codemirror_mode": {
    "name": "ipython",
    "version": 3
   },
   "file_extension": ".py",
   "mimetype": "text/x-python",
   "name": "python",
   "nbconvert_exporter": "python",
   "pygments_lexer": "ipython3",
   "version": "3.11.4"
  }
 },
 "nbformat": 4,
 "nbformat_minor": 5
}
